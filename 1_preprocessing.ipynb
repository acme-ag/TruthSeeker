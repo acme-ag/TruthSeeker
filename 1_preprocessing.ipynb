{
 "cells": [
  {
   "cell_type": "code",
   "execution_count": 1,
   "id": "b3027f35-4069-44bb-a956-29a576501394",
   "metadata": {
    "tags": []
   },
   "outputs": [],
   "source": [
    "import warnings\n",
    "warnings.filterwarnings('ignore')\n",
    "\n",
    "from IPython.core.interactiveshell import InteractiveShell\n",
    "InteractiveShell.ast_node_interactivity = \"all\""
   ]
  },
  {
   "cell_type": "code",
   "execution_count": 2,
   "id": "1fa9b551-d00a-4f26-9ced-8a57a9799fb4",
   "metadata": {
    "tags": []
   },
   "outputs": [],
   "source": [
    "import numpy as np\n",
    "import pandas as pd\n",
    "import matplotlib.pyplot as plt\n",
    "import seaborn as sn"
   ]
  },
  {
   "cell_type": "code",
   "execution_count": 3,
   "id": "96b3b986-91fc-41e1-8431-fd2adfb63c53",
   "metadata": {
    "tags": []
   },
   "outputs": [],
   "source": [
    "pd.set_option('display.max_colwidth', None)\n",
    "pd.set_option('display.max_columns', None)"
   ]
  },
  {
   "cell_type": "code",
   "execution_count": 17,
   "id": "695b1672-6e50-41fc-b24b-3ad77eff1005",
   "metadata": {
    "tags": []
   },
   "outputs": [],
   "source": [
    "df = pd.read_csv('../data/Original_data/Features_For_Traditional_ML_Techniques.csv')\n",
    "# df.head(1)"
   ]
  },
  {
   "cell_type": "code",
   "execution_count": 5,
   "id": "bbf8cadc-dac0-4216-9334-24776a6a5052",
   "metadata": {
    "tags": []
   },
   "outputs": [
    {
     "name": "stdout",
     "output_type": "stream",
     "text": [
      "<class 'pandas.core.frame.DataFrame'>\n",
      "RangeIndex: 134198 entries, 0 to 134197\n",
      "Data columns (total 64 columns):\n",
      " #   Column                  Non-Null Count   Dtype  \n",
      "---  ------                  --------------   -----  \n",
      " 0   Unnamed: 0              134198 non-null  int64  \n",
      " 1   majority_target         134198 non-null  bool   \n",
      " 2   statement               134198 non-null  object \n",
      " 3   BinaryNumTarget         134198 non-null  float64\n",
      " 4   tweet                   134198 non-null  object \n",
      " 5   followers_count         134198 non-null  float64\n",
      " 6   friends_count           134198 non-null  float64\n",
      " 7   favourites_count        134198 non-null  float64\n",
      " 8   statuses_count          134198 non-null  float64\n",
      " 9   listed_count            134198 non-null  float64\n",
      " 10  following               134198 non-null  float64\n",
      " 11  embeddings              134198 non-null  object \n",
      " 12  BotScore                134198 non-null  float64\n",
      " 13  BotScoreBinary          134198 non-null  float64\n",
      " 14  cred                    134198 non-null  float64\n",
      " 15  normalize_influence     134198 non-null  float64\n",
      " 16  mentions                134198 non-null  float64\n",
      " 17  quotes                  134198 non-null  float64\n",
      " 18  replies                 134198 non-null  float64\n",
      " 19  retweets                134198 non-null  float64\n",
      " 20  favourites              134198 non-null  float64\n",
      " 21  hashtags                134198 non-null  float64\n",
      " 22  URLs                    134198 non-null  float64\n",
      " 23  unique_count            134198 non-null  int64  \n",
      " 24  total_count             134198 non-null  int64  \n",
      " 25  ORG_percentage          134198 non-null  float64\n",
      " 26  NORP_percentage         134198 non-null  float64\n",
      " 27  GPE_percentage          134198 non-null  float64\n",
      " 28  PERSON_percentage       134198 non-null  float64\n",
      " 29  MONEY_percentage        134198 non-null  float64\n",
      " 30  DATE_percentage         134198 non-null  float64\n",
      " 31  CARDINAL_percentage     134198 non-null  float64\n",
      " 32  PERCENT_percentage      134198 non-null  float64\n",
      " 33  ORDINAL_percentage      134198 non-null  float64\n",
      " 34  FAC_percentage          134198 non-null  float64\n",
      " 35  LAW_percentage          134198 non-null  float64\n",
      " 36  PRODUCT_percentage      134198 non-null  float64\n",
      " 37  EVENT_percentage        134198 non-null  float64\n",
      " 38  TIME_percentage         134198 non-null  float64\n",
      " 39  LOC_percentage          134198 non-null  float64\n",
      " 40  WORK_OF_ART_percentage  134198 non-null  float64\n",
      " 41  QUANTITY_percentage     134198 non-null  float64\n",
      " 42  LANGUAGE_percentage     134198 non-null  float64\n",
      " 43  Word count              134198 non-null  int64  \n",
      " 44  Max word length         134198 non-null  int64  \n",
      " 45  Min word length         134198 non-null  int64  \n",
      " 46  Average word length     134198 non-null  float64\n",
      " 47  present_verbs           134198 non-null  int64  \n",
      " 48  past_verbs              134198 non-null  int64  \n",
      " 49  adjectives              134198 non-null  int64  \n",
      " 50  adverbs                 134198 non-null  int64  \n",
      " 51  adpositions             134198 non-null  int64  \n",
      " 52  pronouns                134198 non-null  int64  \n",
      " 53  TOs                     134198 non-null  int64  \n",
      " 54  determiners             134198 non-null  int64  \n",
      " 55  conjunctions            134198 non-null  int64  \n",
      " 56  dots                    134198 non-null  int64  \n",
      " 57  exclamation             134198 non-null  int64  \n",
      " 58  questions               134198 non-null  int64  \n",
      " 59  ampersand               134198 non-null  int64  \n",
      " 60  capitals                134198 non-null  int64  \n",
      " 61  digits                  134198 non-null  int64  \n",
      " 62  long_word_freq          134198 non-null  int64  \n",
      " 63  short_word_freq         134198 non-null  int64  \n",
      "dtypes: bool(1), float64(37), int64(23), object(3)\n",
      "memory usage: 64.6+ MB\n"
     ]
    }
   ],
   "source": [
    "df.info()"
   ]
  },
  {
   "cell_type": "markdown",
   "id": "4cb54bb4-23ed-4f49-aa14-e2d7185535d3",
   "metadata": {},
   "source": [
    "# Check the data validity"
   ]
  },
  {
   "cell_type": "code",
   "execution_count": 18,
   "id": "e64f0de8-3f9c-40f9-b081-a4de05fdaa6c",
   "metadata": {
    "tags": []
   },
   "outputs": [],
   "source": [
    "# df.head(1)"
   ]
  },
  {
   "cell_type": "markdown",
   "id": "477c9fdb-0337-4e5c-aaef-ce7807756aaa",
   "metadata": {},
   "source": [
    "0-th item tweet text:\n",
    "\n",
    "\"@POTUS Biden Blunders - 6 Month Update\n",
    "\n",
    "Inflation, Delta mismanagement, COVID for kids, Abandoning Americans in Afghanistan, Arming the Taliban, S. Border crisis, Breaking job growth, Abuse of power (Many Exec Orders, $3.5T through Reconciliation, Eviction Moratorium)...what did I miss?\"\n",
    "\n",
    "It says there're 6 'total_count', 42 'word count', 1 URL, 33% ORG_percentage that do not match the text content. 0 DATE, ORDINAL or CARDINAL percentage -- 6 Month must fall in one of the categories."
   ]
  },
  {
   "cell_type": "code",
   "execution_count": 19,
   "id": "b966a4ca-4558-42b5-8031-e8a8fcd98340",
   "metadata": {
    "tags": []
   },
   "outputs": [],
   "source": [
    "# Random datapoint\n",
    "# df.iloc[10520:10521]"
   ]
  },
  {
   "cell_type": "markdown",
   "id": "52054f93-128a-4efe-ae22-e61d896ea333",
   "metadata": {},
   "source": [
    "It says: 1 URL, 0 total_count (?), 0 PERSON, 0 LOC (location), 0 CORDINAL, 0 PERCENT, 46 word count, Max word length 14, Min word lenght 1, 3 dots, 0 digits.\n",
    "\n",
    "In fact: 0 URLs, 38 total_count, word_count  probably should be 34 or 35, 1 location 3 CORDINAL and 1 PERCENT mentions, Max words is 9, Min words is 2, 15 digits, 2 dots."
   ]
  },
  {
   "cell_type": "code",
   "execution_count": 20,
   "id": "27fa3784-cbca-4752-a399-d3d9db35faa4",
   "metadata": {
    "tags": []
   },
   "outputs": [],
   "source": [
    "# df.iloc[80520:80521]"
   ]
  },
  {
   "cell_type": "markdown",
   "id": "6509edea-3bc8-4b24-abb7-14e16589a72e",
   "metadata": {},
   "source": [
    "It says there's 1 URL, total_count 1 (that's total number of words), 0 MONEY entity, 0 CARDINAL, 0 TIME, 36 word count, Max word length 14, 0 exclamations, 0 digits, 8 capitals, 0 ampersand, 5 dots.\n",
    "\n",
    "In fact 0 URL, 54 total_count, 1 Money entity, 2 Cardinal, 1 Percent,1 Time, ~45 word count, the longest word is 'employees' that has 9 characters, several exclamations, 15 capital letters, 2 ampersands, 2 dots (if we count delimiter)."
   ]
  },
  {
   "cell_type": "code",
   "execution_count": 9,
   "id": "3fd1985e-90f7-4e0d-adac-c28a5cf0eb0a",
   "metadata": {
    "tags": []
   },
   "outputs": [
    {
     "data": {
      "text/plain": [
       "1000"
      ]
     },
     "execution_count": 9,
     "metadata": {},
     "output_type": "execute_result"
    }
   ],
   "source": [
    "df['Min word length'].max()"
   ]
  },
  {
   "cell_type": "code",
   "execution_count": 10,
   "id": "244cefbd-53d3-4e07-a552-e6f7dbd82808",
   "metadata": {
    "tags": []
   },
   "outputs": [
    {
     "data": {
      "text/plain": [
       "<Axes: >"
      ]
     },
     "execution_count": 10,
     "metadata": {},
     "output_type": "execute_result"
    },
    {
     "data": {
      "image/png": "[encoded data removed]",
      "text/plain": [
       "<Figure size 640x480 with 1 Axes>"
      ]
     },
     "metadata": {},
     "output_type": "display_data"
    }
   ],
   "source": [
    "df['Min word length'].hist(bins=30)"
   ]
  },
  {
   "cell_type": "markdown",
   "id": "384cc316-26d4-4163-b7d5-dd80bad113ed",
   "metadata": {},
   "source": [
    "So it says there's a tweet where shortest word counts 1000 characters."
   ]
  },
  {
   "cell_type": "code",
   "execution_count": 11,
   "id": "0b3d74c0-59c2-4d03-9165-a2682e8ced96",
   "metadata": {
    "tags": []
   },
   "outputs": [
    {
     "data": {
      "text/plain": [
       "'@sultana_laraib Why this apologetic stance? Being neighbor, Pakistan does have interests in Afghanistan which ought to be defended and advocated. We lost 100,000 civilian lives at the hands of butcher Afghans and many losses worth billion of dollars which we cant forget.'"
      ]
     },
     "execution_count": 11,
     "metadata": {},
     "output_type": "execute_result"
    }
   ],
   "source": [
    "df.loc[df['Min word length'].max()]['tweet']"
   ]
  },
  {
   "cell_type": "markdown",
   "id": "1c01b046-22ad-457b-ad5c-6ece4985ca4e",
   "metadata": {},
   "source": [
    "Word says it's 42."
   ]
  },
  {
   "cell_type": "markdown",
   "id": "143e72df-cd63-4be7-90f6-3387e53eaa21",
   "metadata": {},
   "source": [
    "Ok, long story short. It's not just about these particular datapoints. There are descrepancies across the dataset. I think (and inderectly research team member confirmed that) the team was focused on the NLP analysis, rather than on traditional ML techniques. That ML dataset is kinda bonus. Or maybe something went wrong during data processing. So, anyway, there are descrepancies. \n",
    "\n",
    "Unfortunately I was not able to get the correct version from the researchers. So I've come up to the decision to make the recalculations. First I need to count all countable things like quantity of dots, digits, ! and ? signs, number of characters, longest and shortest words and so on.\n",
    "\n",
    "Then I'll deal with spacy tags. That's a new package for me, so need to get a bit familliar with that."
   ]
  },
  {
   "cell_type": "markdown",
   "id": "8877206e-2fb6-40dc-8161-ecf3ee74f670",
   "metadata": {},
   "source": [
    "------------------\n",
    "\n",
    "But before that, we want to deal with one thing. Although the data types look relevant for the variables, it's unclear why for some of them data type is int64 or float64 – is it that necessary?\n",
    "\n",
    "The min and max values across the dataset show that there are no extremly large or small numbers there. They can be accomodatetd into a dtypes of smalleer capacities. Like Int32, which is -2,147,483,648 to +2,147,483,647.\n",
    "\n",
    "We gonna drop \"Unnamed 0\", since it's a double for index, following, since it's empty. All other variables with dtype int64, except for 'followers_count' will be converted into int32.\n",
    "\n",
    "------------------"
   ]
  },
  {
   "cell_type": "code",
   "execution_count": 12,
   "id": "e9e4f646-524b-4c00-8d2e-3f76976646a5",
   "metadata": {
    "tags": []
   },
   "outputs": [
    {
     "data": {
      "text/html": [
       "<div>\n",
       "<style scoped>\n",
       "    .dataframe tbody tr th:only-of-type {\n",
       "        vertical-align: middle;\n",
       "    }\n",
       "\n",
       "    .dataframe tbody tr th {\n",
       "        vertical-align: top;\n",
       "    }\n",
       "\n",
       "    .dataframe thead th {\n",
       "        text-align: right;\n",
       "    }\n",
       "</style>\n",
       "<table border=\"1\" class=\"dataframe\">\n",
       "  <thead>\n",
       "    <tr style=\"text-align: right;\">\n",
       "      <th></th>\n",
       "      <th>Unnamed: 0</th>\n",
       "      <th>BinaryNumTarget</th>\n",
       "      <th>followers_count</th>\n",
       "      <th>friends_count</th>\n",
       "      <th>favourites_count</th>\n",
       "      <th>statuses_count</th>\n",
       "      <th>listed_count</th>\n",
       "      <th>following</th>\n",
       "      <th>BotScore</th>\n",
       "      <th>BotScoreBinary</th>\n",
       "      <th>cred</th>\n",
       "      <th>normalize_influence</th>\n",
       "      <th>mentions</th>\n",
       "      <th>quotes</th>\n",
       "      <th>replies</th>\n",
       "      <th>retweets</th>\n",
       "      <th>favourites</th>\n",
       "      <th>hashtags</th>\n",
       "      <th>URLs</th>\n",
       "      <th>unique_count</th>\n",
       "      <th>total_count</th>\n",
       "      <th>ORG_percentage</th>\n",
       "      <th>NORP_percentage</th>\n",
       "      <th>GPE_percentage</th>\n",
       "      <th>PERSON_percentage</th>\n",
       "      <th>MONEY_percentage</th>\n",
       "      <th>DATE_percentage</th>\n",
       "      <th>CARDINAL_percentage</th>\n",
       "      <th>PERCENT_percentage</th>\n",
       "      <th>ORDINAL_percentage</th>\n",
       "      <th>FAC_percentage</th>\n",
       "      <th>LAW_percentage</th>\n",
       "      <th>PRODUCT_percentage</th>\n",
       "      <th>EVENT_percentage</th>\n",
       "      <th>TIME_percentage</th>\n",
       "      <th>LOC_percentage</th>\n",
       "      <th>WORK_OF_ART_percentage</th>\n",
       "      <th>QUANTITY_percentage</th>\n",
       "      <th>LANGUAGE_percentage</th>\n",
       "      <th>Word count</th>\n",
       "      <th>Max word length</th>\n",
       "      <th>Min word length</th>\n",
       "      <th>Average word length</th>\n",
       "      <th>present_verbs</th>\n",
       "      <th>past_verbs</th>\n",
       "      <th>adjectives</th>\n",
       "      <th>adverbs</th>\n",
       "      <th>adpositions</th>\n",
       "      <th>pronouns</th>\n",
       "      <th>TOs</th>\n",
       "      <th>determiners</th>\n",
       "      <th>conjunctions</th>\n",
       "      <th>dots</th>\n",
       "      <th>exclamation</th>\n",
       "      <th>questions</th>\n",
       "      <th>ampersand</th>\n",
       "      <th>capitals</th>\n",
       "      <th>digits</th>\n",
       "      <th>long_word_freq</th>\n",
       "      <th>short_word_freq</th>\n",
       "    </tr>\n",
       "  </thead>\n",
       "  <tbody>\n",
       "    <tr>\n",
       "      <th>count</th>\n",
       "      <td>134198.00000</td>\n",
       "      <td>134198.000000</td>\n",
       "      <td>1.341980e+05</td>\n",
       "      <td>134198.000000</td>\n",
       "      <td>1.341980e+05</td>\n",
       "      <td>1.341980e+05</td>\n",
       "      <td>134198.000000</td>\n",
       "      <td>134198.0</td>\n",
       "      <td>134198.000000</td>\n",
       "      <td>134198.000000</td>\n",
       "      <td>134198.000000</td>\n",
       "      <td>134198.000000</td>\n",
       "      <td>134198.000000</td>\n",
       "      <td>134198.000000</td>\n",
       "      <td>134198.000000</td>\n",
       "      <td>134198.000000</td>\n",
       "      <td>134198.000000</td>\n",
       "      <td>134198.000000</td>\n",
       "      <td>134198.000000</td>\n",
       "      <td>134198.000000</td>\n",
       "      <td>134198.000000</td>\n",
       "      <td>134198.000000</td>\n",
       "      <td>134198.000000</td>\n",
       "      <td>134198.000000</td>\n",
       "      <td>134198.000000</td>\n",
       "      <td>134198.000000</td>\n",
       "      <td>134198.000000</td>\n",
       "      <td>134198.000000</td>\n",
       "      <td>134198.000000</td>\n",
       "      <td>134198.000000</td>\n",
       "      <td>134198.000000</td>\n",
       "      <td>134198.000000</td>\n",
       "      <td>134198.000000</td>\n",
       "      <td>134198.000000</td>\n",
       "      <td>134198.000000</td>\n",
       "      <td>134198.000000</td>\n",
       "      <td>134198.000000</td>\n",
       "      <td>134198.000000</td>\n",
       "      <td>134198.000000</td>\n",
       "      <td>134198.000000</td>\n",
       "      <td>134198.000000</td>\n",
       "      <td>134198.000000</td>\n",
       "      <td>134198.000000</td>\n",
       "      <td>134198.000000</td>\n",
       "      <td>134198.00000</td>\n",
       "      <td>134198.000000</td>\n",
       "      <td>134198.000000</td>\n",
       "      <td>134198.000000</td>\n",
       "      <td>134198.00000</td>\n",
       "      <td>134198.000000</td>\n",
       "      <td>134198.000000</td>\n",
       "      <td>134198.000000</td>\n",
       "      <td>134198.000000</td>\n",
       "      <td>134198.000000</td>\n",
       "      <td>134198.000000</td>\n",
       "      <td>134198.000000</td>\n",
       "      <td>134198.000000</td>\n",
       "      <td>134198.000000</td>\n",
       "      <td>134198.000000</td>\n",
       "      <td>134198.000000</td>\n",
       "    </tr>\n",
       "    <tr>\n",
       "      <th>mean</th>\n",
       "      <td>67098.50000</td>\n",
       "      <td>0.513644</td>\n",
       "      <td>1.129308e+04</td>\n",
       "      <td>1893.454455</td>\n",
       "      <td>3.298123e+04</td>\n",
       "      <td>3.419576e+04</td>\n",
       "      <td>73.300198</td>\n",
       "      <td>0.0</td>\n",
       "      <td>0.059106</td>\n",
       "      <td>0.032355</td>\n",
       "      <td>0.405852</td>\n",
       "      <td>0.077665</td>\n",
       "      <td>1.388918</td>\n",
       "      <td>0.573406</td>\n",
       "      <td>1.914201</td>\n",
       "      <td>6.674354</td>\n",
       "      <td>27.572386</td>\n",
       "      <td>0.104726</td>\n",
       "      <td>0.737701</td>\n",
       "      <td>2.365624</td>\n",
       "      <td>3.441229</td>\n",
       "      <td>0.199964</td>\n",
       "      <td>0.067412</td>\n",
       "      <td>0.136151</td>\n",
       "      <td>0.221930</td>\n",
       "      <td>0.029525</td>\n",
       "      <td>0.102339</td>\n",
       "      <td>0.091104</td>\n",
       "      <td>0.030638</td>\n",
       "      <td>0.012432</td>\n",
       "      <td>0.003352</td>\n",
       "      <td>0.005265</td>\n",
       "      <td>0.006839</td>\n",
       "      <td>0.002607</td>\n",
       "      <td>0.005662</td>\n",
       "      <td>0.009771</td>\n",
       "      <td>0.008517</td>\n",
       "      <td>0.002396</td>\n",
       "      <td>0.001011</td>\n",
       "      <td>35.077691</td>\n",
       "      <td>13.062043</td>\n",
       "      <td>1.399857</td>\n",
       "      <td>5.056648</td>\n",
       "      <td>2.452354</td>\n",
       "      <td>1.81221</td>\n",
       "      <td>3.034308</td>\n",
       "      <td>1.575873</td>\n",
       "      <td>3.619644</td>\n",
       "      <td>1.49582</td>\n",
       "      <td>0.788626</td>\n",
       "      <td>0.135583</td>\n",
       "      <td>1.003495</td>\n",
       "      <td>2.366116</td>\n",
       "      <td>0.259408</td>\n",
       "      <td>0.307151</td>\n",
       "      <td>0.121537</td>\n",
       "      <td>12.831905</td>\n",
       "      <td>3.559494</td>\n",
       "      <td>2.249557</td>\n",
       "      <td>21.438658</td>\n",
       "    </tr>\n",
       "    <tr>\n",
       "      <th>std</th>\n",
       "      <td>38739.77005</td>\n",
       "      <td>0.499816</td>\n",
       "      <td>4.374971e+05</td>\n",
       "      <td>6997.695671</td>\n",
       "      <td>6.878021e+04</td>\n",
       "      <td>7.510120e+04</td>\n",
       "      <td>1083.274277</td>\n",
       "      <td>0.0</td>\n",
       "      <td>0.167819</td>\n",
       "      <td>0.176942</td>\n",
       "      <td>0.239223</td>\n",
       "      <td>0.026184</td>\n",
       "      <td>1.471604</td>\n",
       "      <td>28.436726</td>\n",
       "      <td>122.041183</td>\n",
       "      <td>406.542579</td>\n",
       "      <td>1831.425703</td>\n",
       "      <td>0.458687</td>\n",
       "      <td>0.439886</td>\n",
       "      <td>1.351617</td>\n",
       "      <td>2.479373</td>\n",
       "      <td>0.276376</td>\n",
       "      <td>0.165502</td>\n",
       "      <td>0.242561</td>\n",
       "      <td>0.298133</td>\n",
       "      <td>0.106880</td>\n",
       "      <td>0.206059</td>\n",
       "      <td>0.190366</td>\n",
       "      <td>0.116949</td>\n",
       "      <td>0.070884</td>\n",
       "      <td>0.037525</td>\n",
       "      <td>0.048690</td>\n",
       "      <td>0.053513</td>\n",
       "      <td>0.032400</td>\n",
       "      <td>0.046830</td>\n",
       "      <td>0.070224</td>\n",
       "      <td>0.062580</td>\n",
       "      <td>0.030757</td>\n",
       "      <td>0.019590</td>\n",
       "      <td>13.604442</td>\n",
       "      <td>3.044782</td>\n",
       "      <td>2.795407</td>\n",
       "      <td>0.825737</td>\n",
       "      <td>2.049247</td>\n",
       "      <td>1.73699</td>\n",
       "      <td>2.012125</td>\n",
       "      <td>1.546382</td>\n",
       "      <td>2.195625</td>\n",
       "      <td>1.63947</td>\n",
       "      <td>0.961242</td>\n",
       "      <td>0.379235</td>\n",
       "      <td>1.086844</td>\n",
       "      <td>2.140459</td>\n",
       "      <td>0.903957</td>\n",
       "      <td>0.774367</td>\n",
       "      <td>0.453865</td>\n",
       "      <td>15.557524</td>\n",
       "      <td>6.674458</td>\n",
       "      <td>2.912136</td>\n",
       "      <td>9.625147</td>\n",
       "    </tr>\n",
       "    <tr>\n",
       "      <th>min</th>\n",
       "      <td>0.00000</td>\n",
       "      <td>0.000000</td>\n",
       "      <td>0.000000e+00</td>\n",
       "      <td>0.000000</td>\n",
       "      <td>0.000000e+00</td>\n",
       "      <td>1.000000e+00</td>\n",
       "      <td>0.000000</td>\n",
       "      <td>0.0</td>\n",
       "      <td>0.000000</td>\n",
       "      <td>0.000000</td>\n",
       "      <td>0.000000</td>\n",
       "      <td>0.000000</td>\n",
       "      <td>0.000000</td>\n",
       "      <td>0.000000</td>\n",
       "      <td>0.000000</td>\n",
       "      <td>0.000000</td>\n",
       "      <td>0.000000</td>\n",
       "      <td>0.000000</td>\n",
       "      <td>0.000000</td>\n",
       "      <td>0.000000</td>\n",
       "      <td>0.000000</td>\n",
       "      <td>0.000000</td>\n",
       "      <td>0.000000</td>\n",
       "      <td>0.000000</td>\n",
       "      <td>0.000000</td>\n",
       "      <td>0.000000</td>\n",
       "      <td>0.000000</td>\n",
       "      <td>0.000000</td>\n",
       "      <td>0.000000</td>\n",
       "      <td>0.000000</td>\n",
       "      <td>0.000000</td>\n",
       "      <td>0.000000</td>\n",
       "      <td>0.000000</td>\n",
       "      <td>0.000000</td>\n",
       "      <td>0.000000</td>\n",
       "      <td>0.000000</td>\n",
       "      <td>0.000000</td>\n",
       "      <td>0.000000</td>\n",
       "      <td>0.000000</td>\n",
       "      <td>0.000000</td>\n",
       "      <td>0.000000</td>\n",
       "      <td>1.000000</td>\n",
       "      <td>-1.000000</td>\n",
       "      <td>0.000000</td>\n",
       "      <td>0.00000</td>\n",
       "      <td>0.000000</td>\n",
       "      <td>0.000000</td>\n",
       "      <td>0.000000</td>\n",
       "      <td>0.00000</td>\n",
       "      <td>0.000000</td>\n",
       "      <td>0.000000</td>\n",
       "      <td>0.000000</td>\n",
       "      <td>0.000000</td>\n",
       "      <td>0.000000</td>\n",
       "      <td>0.000000</td>\n",
       "      <td>0.000000</td>\n",
       "      <td>0.000000</td>\n",
       "      <td>0.000000</td>\n",
       "      <td>0.000000</td>\n",
       "      <td>0.000000</td>\n",
       "    </tr>\n",
       "    <tr>\n",
       "      <th>25%</th>\n",
       "      <td>33549.25000</td>\n",
       "      <td>0.000000</td>\n",
       "      <td>7.000000e+01</td>\n",
       "      <td>168.000000</td>\n",
       "      <td>1.356000e+03</td>\n",
       "      <td>3.046000e+03</td>\n",
       "      <td>0.000000</td>\n",
       "      <td>0.0</td>\n",
       "      <td>0.030000</td>\n",
       "      <td>0.000000</td>\n",
       "      <td>0.223684</td>\n",
       "      <td>0.061814</td>\n",
       "      <td>0.000000</td>\n",
       "      <td>0.000000</td>\n",
       "      <td>0.000000</td>\n",
       "      <td>0.000000</td>\n",
       "      <td>0.000000</td>\n",
       "      <td>0.000000</td>\n",
       "      <td>0.000000</td>\n",
       "      <td>1.000000</td>\n",
       "      <td>2.000000</td>\n",
       "      <td>0.000000</td>\n",
       "      <td>0.000000</td>\n",
       "      <td>0.000000</td>\n",
       "      <td>0.000000</td>\n",
       "      <td>0.000000</td>\n",
       "      <td>0.000000</td>\n",
       "      <td>0.000000</td>\n",
       "      <td>0.000000</td>\n",
       "      <td>0.000000</td>\n",
       "      <td>0.000000</td>\n",
       "      <td>0.000000</td>\n",
       "      <td>0.000000</td>\n",
       "      <td>0.000000</td>\n",
       "      <td>0.000000</td>\n",
       "      <td>0.000000</td>\n",
       "      <td>0.000000</td>\n",
       "      <td>0.000000</td>\n",
       "      <td>0.000000</td>\n",
       "      <td>23.000000</td>\n",
       "      <td>11.000000</td>\n",
       "      <td>1.000000</td>\n",
       "      <td>4.571429</td>\n",
       "      <td>1.000000</td>\n",
       "      <td>0.00000</td>\n",
       "      <td>2.000000</td>\n",
       "      <td>0.000000</td>\n",
       "      <td>2.000000</td>\n",
       "      <td>0.00000</td>\n",
       "      <td>0.000000</td>\n",
       "      <td>0.000000</td>\n",
       "      <td>0.000000</td>\n",
       "      <td>1.000000</td>\n",
       "      <td>0.000000</td>\n",
       "      <td>0.000000</td>\n",
       "      <td>0.000000</td>\n",
       "      <td>6.000000</td>\n",
       "      <td>0.000000</td>\n",
       "      <td>1.000000</td>\n",
       "      <td>14.000000</td>\n",
       "    </tr>\n",
       "    <tr>\n",
       "      <th>50%</th>\n",
       "      <td>67098.50000</td>\n",
       "      <td>1.000000</td>\n",
       "      <td>3.540000e+02</td>\n",
       "      <td>567.000000</td>\n",
       "      <td>8.377000e+03</td>\n",
       "      <td>1.101900e+04</td>\n",
       "      <td>2.000000</td>\n",
       "      <td>0.0</td>\n",
       "      <td>0.030000</td>\n",
       "      <td>0.000000</td>\n",
       "      <td>0.386691</td>\n",
       "      <td>0.079436</td>\n",
       "      <td>1.000000</td>\n",
       "      <td>0.000000</td>\n",
       "      <td>0.000000</td>\n",
       "      <td>0.000000</td>\n",
       "      <td>0.000000</td>\n",
       "      <td>0.000000</td>\n",
       "      <td>1.000000</td>\n",
       "      <td>2.000000</td>\n",
       "      <td>3.000000</td>\n",
       "      <td>0.000000</td>\n",
       "      <td>0.000000</td>\n",
       "      <td>0.000000</td>\n",
       "      <td>0.000000</td>\n",
       "      <td>0.000000</td>\n",
       "      <td>0.000000</td>\n",
       "      <td>0.000000</td>\n",
       "      <td>0.000000</td>\n",
       "      <td>0.000000</td>\n",
       "      <td>0.000000</td>\n",
       "      <td>0.000000</td>\n",
       "      <td>0.000000</td>\n",
       "      <td>0.000000</td>\n",
       "      <td>0.000000</td>\n",
       "      <td>0.000000</td>\n",
       "      <td>0.000000</td>\n",
       "      <td>0.000000</td>\n",
       "      <td>0.000000</td>\n",
       "      <td>37.000000</td>\n",
       "      <td>13.000000</td>\n",
       "      <td>1.000000</td>\n",
       "      <td>4.955556</td>\n",
       "      <td>2.000000</td>\n",
       "      <td>1.00000</td>\n",
       "      <td>3.000000</td>\n",
       "      <td>1.000000</td>\n",
       "      <td>3.000000</td>\n",
       "      <td>1.00000</td>\n",
       "      <td>1.000000</td>\n",
       "      <td>0.000000</td>\n",
       "      <td>1.000000</td>\n",
       "      <td>2.000000</td>\n",
       "      <td>0.000000</td>\n",
       "      <td>0.000000</td>\n",
       "      <td>0.000000</td>\n",
       "      <td>10.000000</td>\n",
       "      <td>2.000000</td>\n",
       "      <td>2.000000</td>\n",
       "      <td>21.000000</td>\n",
       "    </tr>\n",
       "    <tr>\n",
       "      <th>75%</th>\n",
       "      <td>100647.75000</td>\n",
       "      <td>1.000000</td>\n",
       "      <td>1.573000e+03</td>\n",
       "      <td>1726.000000</td>\n",
       "      <td>3.352650e+04</td>\n",
       "      <td>3.357375e+04</td>\n",
       "      <td>11.000000</td>\n",
       "      <td>0.0</td>\n",
       "      <td>0.030000</td>\n",
       "      <td>0.000000</td>\n",
       "      <td>0.525020</td>\n",
       "      <td>0.095308</td>\n",
       "      <td>2.000000</td>\n",
       "      <td>0.000000</td>\n",
       "      <td>1.000000</td>\n",
       "      <td>0.000000</td>\n",
       "      <td>1.000000</td>\n",
       "      <td>0.000000</td>\n",
       "      <td>1.000000</td>\n",
       "      <td>3.000000</td>\n",
       "      <td>5.000000</td>\n",
       "      <td>0.333333</td>\n",
       "      <td>0.000000</td>\n",
       "      <td>0.222222</td>\n",
       "      <td>0.333333</td>\n",
       "      <td>0.000000</td>\n",
       "      <td>0.142857</td>\n",
       "      <td>0.090909</td>\n",
       "      <td>0.000000</td>\n",
       "      <td>0.000000</td>\n",
       "      <td>0.000000</td>\n",
       "      <td>0.000000</td>\n",
       "      <td>0.000000</td>\n",
       "      <td>0.000000</td>\n",
       "      <td>0.000000</td>\n",
       "      <td>0.000000</td>\n",
       "      <td>0.000000</td>\n",
       "      <td>0.000000</td>\n",
       "      <td>0.000000</td>\n",
       "      <td>46.000000</td>\n",
       "      <td>15.000000</td>\n",
       "      <td>2.000000</td>\n",
       "      <td>5.409091</td>\n",
       "      <td>4.000000</td>\n",
       "      <td>3.00000</td>\n",
       "      <td>4.000000</td>\n",
       "      <td>2.000000</td>\n",
       "      <td>5.000000</td>\n",
       "      <td>2.00000</td>\n",
       "      <td>1.000000</td>\n",
       "      <td>0.000000</td>\n",
       "      <td>2.000000</td>\n",
       "      <td>3.000000</td>\n",
       "      <td>0.000000</td>\n",
       "      <td>0.000000</td>\n",
       "      <td>0.000000</td>\n",
       "      <td>15.000000</td>\n",
       "      <td>4.000000</td>\n",
       "      <td>3.000000</td>\n",
       "      <td>28.000000</td>\n",
       "    </tr>\n",
       "    <tr>\n",
       "      <th>max</th>\n",
       "      <td>134197.00000</td>\n",
       "      <td>1.000000</td>\n",
       "      <td>1.306019e+08</td>\n",
       "      <td>586901.000000</td>\n",
       "      <td>1.765080e+06</td>\n",
       "      <td>2.958918e+06</td>\n",
       "      <td>222193.000000</td>\n",
       "      <td>0.0</td>\n",
       "      <td>1.000000</td>\n",
       "      <td>1.000000</td>\n",
       "      <td>1.000000</td>\n",
       "      <td>0.208606</td>\n",
       "      <td>12.000000</td>\n",
       "      <td>5913.000000</td>\n",
       "      <td>42068.000000</td>\n",
       "      <td>126062.000000</td>\n",
       "      <td>460320.000000</td>\n",
       "      <td>12.000000</td>\n",
       "      <td>1.000000</td>\n",
       "      <td>9.000000</td>\n",
       "      <td>32.000000</td>\n",
       "      <td>1.000000</td>\n",
       "      <td>1.000000</td>\n",
       "      <td>1.000000</td>\n",
       "      <td>1.000000</td>\n",
       "      <td>1.000000</td>\n",
       "      <td>1.000000</td>\n",
       "      <td>1.000000</td>\n",
       "      <td>1.000000</td>\n",
       "      <td>1.000000</td>\n",
       "      <td>1.000000</td>\n",
       "      <td>1.000000</td>\n",
       "      <td>1.000000</td>\n",
       "      <td>1.000000</td>\n",
       "      <td>1.000000</td>\n",
       "      <td>1.000000</td>\n",
       "      <td>1.000000</td>\n",
       "      <td>1.000000</td>\n",
       "      <td>1.000000</td>\n",
       "      <td>110.000000</td>\n",
       "      <td>145.000000</td>\n",
       "      <td>1000.000000</td>\n",
       "      <td>88.000000</td>\n",
       "      <td>16.000000</td>\n",
       "      <td>15.00000</td>\n",
       "      <td>17.000000</td>\n",
       "      <td>12.000000</td>\n",
       "      <td>14.000000</td>\n",
       "      <td>14.00000</td>\n",
       "      <td>8.000000</td>\n",
       "      <td>5.000000</td>\n",
       "      <td>13.000000</td>\n",
       "      <td>50.000000</td>\n",
       "      <td>66.000000</td>\n",
       "      <td>43.000000</td>\n",
       "      <td>13.000000</td>\n",
       "      <td>250.000000</td>\n",
       "      <td>138.000000</td>\n",
       "      <td>47.000000</td>\n",
       "      <td>164.000000</td>\n",
       "    </tr>\n",
       "  </tbody>\n",
       "</table>\n",
       "</div>"
      ],
      "text/plain": [
       "         Unnamed: 0  BinaryNumTarget  followers_count  friends_count  \\\n",
       "count  134198.00000    134198.000000     1.341980e+05  134198.000000   \n",
       "mean    67098.50000         0.513644     1.129308e+04    1893.454455   \n",
       "std     38739.77005         0.499816     4.374971e+05    6997.695671   \n",
       "min         0.00000         0.000000     0.000000e+00       0.000000   \n",
       "25%     33549.25000         0.000000     7.000000e+01     168.000000   \n",
       "50%     67098.50000         1.000000     3.540000e+02     567.000000   \n",
       "75%    100647.75000         1.000000     1.573000e+03    1726.000000   \n",
       "max    134197.00000         1.000000     1.306019e+08  586901.000000   \n",
       "\n",
       "       favourites_count  statuses_count   listed_count  following  \\\n",
       "count      1.341980e+05    1.341980e+05  134198.000000   134198.0   \n",
       "mean       3.298123e+04    3.419576e+04      73.300198        0.0   \n",
       "std        6.878021e+04    7.510120e+04    1083.274277        0.0   \n",
       "min        0.000000e+00    1.000000e+00       0.000000        0.0   \n",
       "25%        1.356000e+03    3.046000e+03       0.000000        0.0   \n",
       "50%        8.377000e+03    1.101900e+04       2.000000        0.0   \n",
       "75%        3.352650e+04    3.357375e+04      11.000000        0.0   \n",
       "max        1.765080e+06    2.958918e+06  222193.000000        0.0   \n",
       "\n",
       "            BotScore  BotScoreBinary           cred  normalize_influence  \\\n",
       "count  134198.000000   134198.000000  134198.000000        134198.000000   \n",
       "mean        0.059106        0.032355       0.405852             0.077665   \n",
       "std         0.167819        0.176942       0.239223             0.026184   \n",
       "min         0.000000        0.000000       0.000000             0.000000   \n",
       "25%         0.030000        0.000000       0.223684             0.061814   \n",
       "50%         0.030000        0.000000       0.386691             0.079436   \n",
       "75%         0.030000        0.000000       0.525020             0.095308   \n",
       "max         1.000000        1.000000       1.000000             0.208606   \n",
       "\n",
       "            mentions         quotes        replies       retweets  \\\n",
       "count  134198.000000  134198.000000  134198.000000  134198.000000   \n",
       "mean        1.388918       0.573406       1.914201       6.674354   \n",
       "std         1.471604      28.436726     122.041183     406.542579   \n",
       "min         0.000000       0.000000       0.000000       0.000000   \n",
       "25%         0.000000       0.000000       0.000000       0.000000   \n",
       "50%         1.000000       0.000000       0.000000       0.000000   \n",
       "75%         2.000000       0.000000       1.000000       0.000000   \n",
       "max        12.000000    5913.000000   42068.000000  126062.000000   \n",
       "\n",
       "          favourites       hashtags           URLs   unique_count  \\\n",
       "count  134198.000000  134198.000000  134198.000000  134198.000000   \n",
       "mean       27.572386       0.104726       0.737701       2.365624   \n",
       "std      1831.425703       0.458687       0.439886       1.351617   \n",
       "min         0.000000       0.000000       0.000000       0.000000   \n",
       "25%         0.000000       0.000000       0.000000       1.000000   \n",
       "50%         0.000000       0.000000       1.000000       2.000000   \n",
       "75%         1.000000       0.000000       1.000000       3.000000   \n",
       "max    460320.000000      12.000000       1.000000       9.000000   \n",
       "\n",
       "         total_count  ORG_percentage  NORP_percentage  GPE_percentage  \\\n",
       "count  134198.000000   134198.000000    134198.000000   134198.000000   \n",
       "mean        3.441229        0.199964         0.067412        0.136151   \n",
       "std         2.479373        0.276376         0.165502        0.242561   \n",
       "min         0.000000        0.000000         0.000000        0.000000   \n",
       "25%         2.000000        0.000000         0.000000        0.000000   \n",
       "50%         3.000000        0.000000         0.000000        0.000000   \n",
       "75%         5.000000        0.333333         0.000000        0.222222   \n",
       "max        32.000000        1.000000         1.000000        1.000000   \n",
       "\n",
       "       PERSON_percentage  MONEY_percentage  DATE_percentage  \\\n",
       "count      134198.000000     134198.000000    134198.000000   \n",
       "mean            0.221930          0.029525         0.102339   \n",
       "std             0.298133          0.106880         0.206059   \n",
       "min             0.000000          0.000000         0.000000   \n",
       "25%             0.000000          0.000000         0.000000   \n",
       "50%             0.000000          0.000000         0.000000   \n",
       "75%             0.333333          0.000000         0.142857   \n",
       "max             1.000000          1.000000         1.000000   \n",
       "\n",
       "       CARDINAL_percentage  PERCENT_percentage  ORDINAL_percentage  \\\n",
       "count        134198.000000       134198.000000       134198.000000   \n",
       "mean              0.091104            0.030638            0.012432   \n",
       "std               0.190366            0.116949            0.070884   \n",
       "min               0.000000            0.000000            0.000000   \n",
       "25%               0.000000            0.000000            0.000000   \n",
       "50%               0.000000            0.000000            0.000000   \n",
       "75%               0.090909            0.000000            0.000000   \n",
       "max               1.000000            1.000000            1.000000   \n",
       "\n",
       "       FAC_percentage  LAW_percentage  PRODUCT_percentage  EVENT_percentage  \\\n",
       "count   134198.000000   134198.000000       134198.000000     134198.000000   \n",
       "mean         0.003352        0.005265            0.006839          0.002607   \n",
       "std          0.037525        0.048690            0.053513          0.032400   \n",
       "min          0.000000        0.000000            0.000000          0.000000   \n",
       "25%          0.000000        0.000000            0.000000          0.000000   \n",
       "50%          0.000000        0.000000            0.000000          0.000000   \n",
       "75%          0.000000        0.000000            0.000000          0.000000   \n",
       "max          1.000000        1.000000            1.000000          1.000000   \n",
       "\n",
       "       TIME_percentage  LOC_percentage  WORK_OF_ART_percentage  \\\n",
       "count    134198.000000   134198.000000           134198.000000   \n",
       "mean          0.005662        0.009771                0.008517   \n",
       "std           0.046830        0.070224                0.062580   \n",
       "min           0.000000        0.000000                0.000000   \n",
       "25%           0.000000        0.000000                0.000000   \n",
       "50%           0.000000        0.000000                0.000000   \n",
       "75%           0.000000        0.000000                0.000000   \n",
       "max           1.000000        1.000000                1.000000   \n",
       "\n",
       "       QUANTITY_percentage  LANGUAGE_percentage     Word count  \\\n",
       "count        134198.000000        134198.000000  134198.000000   \n",
       "mean              0.002396             0.001011      35.077691   \n",
       "std               0.030757             0.019590      13.604442   \n",
       "min               0.000000             0.000000       0.000000   \n",
       "25%               0.000000             0.000000      23.000000   \n",
       "50%               0.000000             0.000000      37.000000   \n",
       "75%               0.000000             0.000000      46.000000   \n",
       "max               1.000000             1.000000     110.000000   \n",
       "\n",
       "       Max word length  Min word length  Average word length  present_verbs  \\\n",
       "count    134198.000000    134198.000000        134198.000000  134198.000000   \n",
       "mean         13.062043         1.399857             5.056648       2.452354   \n",
       "std           3.044782         2.795407             0.825737       2.049247   \n",
       "min           0.000000         1.000000            -1.000000       0.000000   \n",
       "25%          11.000000         1.000000             4.571429       1.000000   \n",
       "50%          13.000000         1.000000             4.955556       2.000000   \n",
       "75%          15.000000         2.000000             5.409091       4.000000   \n",
       "max         145.000000      1000.000000            88.000000      16.000000   \n",
       "\n",
       "         past_verbs     adjectives        adverbs    adpositions  \\\n",
       "count  134198.00000  134198.000000  134198.000000  134198.000000   \n",
       "mean        1.81221       3.034308       1.575873       3.619644   \n",
       "std         1.73699       2.012125       1.546382       2.195625   \n",
       "min         0.00000       0.000000       0.000000       0.000000   \n",
       "25%         0.00000       2.000000       0.000000       2.000000   \n",
       "50%         1.00000       3.000000       1.000000       3.000000   \n",
       "75%         3.00000       4.000000       2.000000       5.000000   \n",
       "max        15.00000      17.000000      12.000000      14.000000   \n",
       "\n",
       "           pronouns            TOs    determiners   conjunctions  \\\n",
       "count  134198.00000  134198.000000  134198.000000  134198.000000   \n",
       "mean        1.49582       0.788626       0.135583       1.003495   \n",
       "std         1.63947       0.961242       0.379235       1.086844   \n",
       "min         0.00000       0.000000       0.000000       0.000000   \n",
       "25%         0.00000       0.000000       0.000000       0.000000   \n",
       "50%         1.00000       1.000000       0.000000       1.000000   \n",
       "75%         2.00000       1.000000       0.000000       2.000000   \n",
       "max        14.00000       8.000000       5.000000      13.000000   \n",
       "\n",
       "                dots    exclamation      questions      ampersand  \\\n",
       "count  134198.000000  134198.000000  134198.000000  134198.000000   \n",
       "mean        2.366116       0.259408       0.307151       0.121537   \n",
       "std         2.140459       0.903957       0.774367       0.453865   \n",
       "min         0.000000       0.000000       0.000000       0.000000   \n",
       "25%         1.000000       0.000000       0.000000       0.000000   \n",
       "50%         2.000000       0.000000       0.000000       0.000000   \n",
       "75%         3.000000       0.000000       0.000000       0.000000   \n",
       "max        50.000000      66.000000      43.000000      13.000000   \n",
       "\n",
       "            capitals         digits  long_word_freq  short_word_freq  \n",
       "count  134198.000000  134198.000000   134198.000000    134198.000000  \n",
       "mean       12.831905       3.559494        2.249557        21.438658  \n",
       "std        15.557524       6.674458        2.912136         9.625147  \n",
       "min         0.000000       0.000000        0.000000         0.000000  \n",
       "25%         6.000000       0.000000        1.000000        14.000000  \n",
       "50%        10.000000       2.000000        2.000000        21.000000  \n",
       "75%        15.000000       4.000000        3.000000        28.000000  \n",
       "max       250.000000     138.000000       47.000000       164.000000  "
      ]
     },
     "execution_count": 12,
     "metadata": {},
     "output_type": "execute_result"
    }
   ],
   "source": [
    "df.describe()"
   ]
  },
  {
   "cell_type": "code",
   "execution_count": 13,
   "id": "afbc1a33-8884-4c16-b04a-59ca2cffa6ab",
   "metadata": {
    "tags": []
   },
   "outputs": [],
   "source": [
    "convert_to_32 = ['friends_count', 'favourites_count', 'statuses_count', 'listed_count', 'following', 'replies', 'retweets', 'favourites']\n",
    "convert_to_16 = ['mentions', 'quotes',  'hashtags', 'URLs', 'unique_count', 'total_count', 'Word count', 'Max word length', 'Min word length', 'present_verbs', 'past_verbs', 'adjectives', 'adverbs', 'adpositions', 'pronouns', 'TOs', 'determiners', 'conjunctions', 'dots', 'exclamation', 'questions', 'ampersand', 'capitals', 'digits', 'short_word_freq', 'long_word_freq']\n",
    "convert_to_8 = ['BotScoreBinary', 'BinaryNumTarget']\n",
    "\n",
    "df[convert_to_32] = df[convert_to_32].astype('int32')\n",
    "df[convert_to_16] = df[convert_to_16].astype('int16')\n",
    "df[convert_to_8] = df[convert_to_8].astype('int8')"
   ]
  },
  {
   "cell_type": "markdown",
   "id": "2efcaf6d-3bee-49f6-9b1a-f3bc48e232e4",
   "metadata": {},
   "source": [
    "df.info() shows that size went down from 66Mb to 40Mb. \n",
    "\n",
    "Now we'll do the same for floats. For floats it's float32 for 8 digits, float64 is for 16 digits. judging by the info we hardly need a very high precision. So float32 will do for all."
   ]
  },
  {
   "cell_type": "code",
   "execution_count": 14,
   "id": "c047c856-723b-40fd-aed4-78f07ec5358b",
   "metadata": {
    "tags": []
   },
   "outputs": [],
   "source": [
    "convert_to_float32 = ['BotScore', 'cred', 'normalize_influence', 'Average word length', 'ORG_percentage', 'NORP_percentage', 'GPE_percentage', 'MONEY_percentage', 'DATE_percentage', 'CARDINAL_percentage', 'ORDINAL_percentage', 'FAC_percentage', 'LAW_percentage', 'PRODUCT_percentage', 'EVENT_percentage', 'WORK_OF_ART_percentage', 'QUANTITY_percentage', 'LOC_percentage', 'PERCENT_percentage', 'LANGUAGE_percentage', 'TIME_percentage', 'PERSON_percentage']\n",
    "\n",
    "df[convert_to_float32] = df[convert_to_float32].astype('float32')"
   ]
  },
  {
   "cell_type": "code",
   "execution_count": 51,
   "id": "bc60ff5c-8dd5-47f1-a6a8-22aeb36f3ff6",
   "metadata": {
    "tags": []
   },
   "outputs": [
    {
     "name": "stdout",
     "output_type": "stream",
     "text": [
      "<class 'pandas.core.frame.DataFrame'>\n",
      "RangeIndex: 134198 entries, 0 to 134197\n",
      "Data columns (total 64 columns):\n",
      " #   Column                  Non-Null Count   Dtype  \n",
      "---  ------                  --------------   -----  \n",
      " 0   Unnamed: 0              134198 non-null  int64  \n",
      " 1   majority_target         134198 non-null  bool   \n",
      " 2   statement               134198 non-null  object \n",
      " 3   BinaryNumTarget         134198 non-null  int8   \n",
      " 4   tweet                   134198 non-null  object \n",
      " 5   followers_count         134198 non-null  float64\n",
      " 6   friends_count           134198 non-null  int32  \n",
      " 7   favourites_count        134198 non-null  int32  \n",
      " 8   statuses_count          134198 non-null  int32  \n",
      " 9   listed_count            134198 non-null  int32  \n",
      " 10  following               134198 non-null  int32  \n",
      " 11  embeddings              134198 non-null  object \n",
      " 12  BotScore                134198 non-null  float32\n",
      " 13  BotScoreBinary          134198 non-null  int8   \n",
      " 14  cred                    134198 non-null  float32\n",
      " 15  normalize_influence     134198 non-null  float32\n",
      " 16  mentions                134198 non-null  int16  \n",
      " 17  quotes                  134198 non-null  int16  \n",
      " 18  replies                 134198 non-null  int32  \n",
      " 19  retweets                134198 non-null  int32  \n",
      " 20  favourites              134198 non-null  int32  \n",
      " 21  hashtags                134198 non-null  int16  \n",
      " 22  URLs                    134198 non-null  int16  \n",
      " 23  unique_count            134198 non-null  int16  \n",
      " 24  total_count             134198 non-null  int16  \n",
      " 25  ORG_percentage          134198 non-null  float32\n",
      " 26  NORP_percentage         134198 non-null  float32\n",
      " 27  GPE_percentage          134198 non-null  float32\n",
      " 28  PERSON_percentage       134198 non-null  float32\n",
      " 29  MONEY_percentage        134198 non-null  float32\n",
      " 30  DATE_percentage         134198 non-null  float32\n",
      " 31  CARDINAL_percentage     134198 non-null  float32\n",
      " 32  PERCENT_percentage      134198 non-null  float32\n",
      " 33  ORDINAL_percentage      134198 non-null  float32\n",
      " 34  FAC_percentage          134198 non-null  float32\n",
      " 35  LAW_percentage          134198 non-null  float32\n",
      " 36  PRODUCT_percentage      134198 non-null  float32\n",
      " 37  EVENT_percentage        134198 non-null  float32\n",
      " 38  TIME_percentage         134198 non-null  float32\n",
      " 39  LOC_percentage          134198 non-null  float32\n",
      " 40  WORK_OF_ART_percentage  134198 non-null  float32\n",
      " 41  QUANTITY_percentage     134198 non-null  float32\n",
      " 42  LANGUAGE_percentage     134198 non-null  float32\n",
      " 43  Word count              134198 non-null  int16  \n",
      " 44  Max word length         134198 non-null  int16  \n",
      " 45  Min word length         134198 non-null  int16  \n",
      " 46  Average word length     134198 non-null  float32\n",
      " 47  present_verbs           134198 non-null  int16  \n",
      " 48  past_verbs              134198 non-null  int16  \n",
      " 49  adjectives              134198 non-null  int16  \n",
      " 50  adverbs                 134198 non-null  int16  \n",
      " 51  adpositions             134198 non-null  int16  \n",
      " 52  pronouns                134198 non-null  int16  \n",
      " 53  TOs                     134198 non-null  int16  \n",
      " 54  determiners             134198 non-null  int16  \n",
      " 55  conjunctions            134198 non-null  int16  \n",
      " 56  dots                    134198 non-null  int16  \n",
      " 57  exclamation             134198 non-null  int16  \n",
      " 58  questions               134198 non-null  int16  \n",
      " 59  ampersand               134198 non-null  int16  \n",
      " 60  capitals                134198 non-null  int16  \n",
      " 61  digits                  134198 non-null  int16  \n",
      " 62  long_word_freq          134198 non-null  int16  \n",
      " 63  short_word_freq         134198 non-null  int16  \n",
      "dtypes: bool(1), float32(22), float64(1), int16(26), int32(8), int64(1), int8(2), object(3)\n",
      "memory usage: 27.5+ MB\n"
     ]
    }
   ],
   "source": [
    "df.info()"
   ]
  },
  {
   "cell_type": "markdown",
   "id": "f336a4da-64cc-4d2f-b735-d2ce35f51c72",
   "metadata": {},
   "source": [
    "Ok, we reduced the size to 27.5Mb. With dropping the unnecessary variables th size will go even lower."
   ]
  },
  {
   "cell_type": "markdown",
   "id": "6dab8659-30cb-4381-8fc9-3ddc96382ec8",
   "metadata": {},
   "source": [
    "Now we're gonna drop some unnecessary columns: Unnamed 0, following, embeddings (not sure what's that for considering how it looks), majority_atrget (we're having binary representation)."
   ]
  },
  {
   "cell_type": "code",
   "execution_count": 15,
   "id": "7c4633dc-bccc-4f8e-a1d5-336d4da57627",
   "metadata": {
    "tags": []
   },
   "outputs": [],
   "source": [
    "df.drop(columns=['Unnamed: 0', 'majority_target', 'following', 'embeddings'], inplace=True)\n"
   ]
  },
  {
   "cell_type": "code",
   "execution_count": 16,
   "id": "41ee90b7-363a-4966-9b91-46887d9f986b",
   "metadata": {
    "tags": []
   },
   "outputs": [
    {
     "data": {
      "text/plain": [
       "(134198, 60)"
      ]
     },
     "execution_count": 16,
     "metadata": {},
     "output_type": "execute_result"
    }
   ],
   "source": [
    "df.shape"
   ]
  },
  {
   "cell_type": "markdown",
   "id": "51affa1b-1a16-46c5-b347-50a9f2ea67f5",
   "metadata": {},
   "source": [
    "# Feature recalculations"
   ]
  },
  {
   "cell_type": "markdown",
   "id": "067d64be-def4-4caa-96a3-3c7e9e9387af",
   "metadata": {},
   "source": [
    "First we need to set the existing values to 0."
   ]
  },
  {
   "cell_type": "code",
   "execution_count": 22,
   "id": "e78f1907-5b7f-493b-bfd9-18bf38877e5b",
   "metadata": {
    "tags": []
   },
   "outputs": [],
   "source": [
    "data = df[:10] # just for case"
   ]
  },
  {
   "cell_type": "code",
   "execution_count": 23,
   "id": "7671a7d8-dfe1-4602-9bd2-0c1ea4a7065b",
   "metadata": {
    "tags": []
   },
   "outputs": [],
   "source": [
    "data[['total_count', 'exclamation', 'questions', 'ampersand', 'digits', 'dots', 'capitals', 'URLs', 'Max word length', 'Min word length', 'Average word length']] = 0"
   ]
  },
  {
   "cell_type": "code",
   "execution_count": 24,
   "id": "a5935078-0b38-4e25-b724-c49b1620a0e2",
   "metadata": {
    "tags": []
   },
   "outputs": [],
   "source": [
    "# Calculate total_count\n",
    "data['calculated_total_count'] = data['tweet'].apply(lambda x: len(str(x).split()))\n",
    "incorrect_counts = data[data['calculated_total_count'] != data['total_count']]\n",
    "data['total_count'] = data['calculated_total_count']\n",
    "data = data.drop(columns=['calculated_total_count'])"
   ]
  },
  {
   "cell_type": "code",
   "execution_count": 25,
   "id": "28dcba1a-f9ea-4ac1-8d65-e31d94c8eafb",
   "metadata": {
    "tags": []
   },
   "outputs": [],
   "source": [
    "# exclamation signs\n",
    "data['exclamation_count'] = data['tweet'].str.count('!')\n",
    "data['exclamation'] = data['exclamation'] + data['exclamation_count']\n",
    "data.drop(columns=['exclamation_count'], inplace=True)"
   ]
  },
  {
   "cell_type": "code",
   "execution_count": 26,
   "id": "4a6308f7-859b-48cb-a008-449d7fa41bca",
   "metadata": {
    "tags": []
   },
   "outputs": [],
   "source": [
    "# question signs\n",
    "data['quest_count'] = data['tweet'].str.count('\\?')\n",
    "data['questions'] = data['questions'] + data['quest_count']\n",
    "data.drop(columns=['quest_count'], inplace=True)"
   ]
  },
  {
   "cell_type": "code",
   "execution_count": 27,
   "id": "4f9b7d0b-8774-480c-9ab9-de024966e2ed",
   "metadata": {
    "tags": []
   },
   "outputs": [],
   "source": [
    "# ampersands\n",
    "data['feature_count'] = data['tweet'].str.count('&')\n",
    "data['ampersand'] = data['ampersand'] + data['feature_count']\n",
    "data.drop(columns=['feature_count'], inplace=True)"
   ]
  },
  {
   "cell_type": "code",
   "execution_count": 28,
   "id": "216cd230-7c26-4d68-81ce-d0d6e5f2f9fc",
   "metadata": {
    "tags": []
   },
   "outputs": [],
   "source": [
    "# digits\n",
    "data['digit_count'] = data['tweet'].str.findall(r'\\b\\d+\\.?\\d*\\b').apply(len)\n",
    "data['digits'] = data['digit_count']\n",
    "data.drop(columns=['digit_count'], inplace=True)"
   ]
  },
  {
   "cell_type": "code",
   "execution_count": 29,
   "id": "0345972f-0a6c-4762-bf72-f643215a44c9",
   "metadata": {
    "tags": []
   },
   "outputs": [],
   "source": [
    "# dots\n",
    "data['feature_count'] = data['tweet'].str.count('\\.')\n",
    "data['dots'] = data['dots'] + data['feature_count']\n",
    "data.drop(columns=['feature_count'], inplace=True)"
   ]
  },
  {
   "cell_type": "code",
   "execution_count": 30,
   "id": "e2bcc530-430a-45f8-988a-daf3ba605f5d",
   "metadata": {
    "tags": []
   },
   "outputs": [],
   "source": [
    "# capitals\n",
    "data['feature_count'] = data['tweet'].str.findall(r'\\b[A-Z][a-z]*\\b').apply(len)\n",
    "data['capitals'] = data['capitals'] + data['feature_count']\n",
    "data.drop(columns=['feature_count'], inplace=True)"
   ]
  },
  {
   "cell_type": "code",
   "execution_count": 31,
   "id": "784f538c-3462-47f7-84f3-8862205aee8a",
   "metadata": {
    "tags": []
   },
   "outputs": [],
   "source": [
    "# URLs\n",
    "import re\n",
    "\n",
    "def recount_urls(text):\n",
    "    # Improved regex pattern to match various URL formats\n",
    "    pattern = r'\\b(?:http://|https://)?(?:www\\.)?[\\w.-]+\\.[a-z]{2,6}\\b(?:/[\\w.-]*)*'\n",
    "    return len(re.findall(pattern, text, re.IGNORECASE))\n",
    "\n",
    "data['URLs'] = data['tweet'].apply(recount_urls)"
   ]
  },
  {
   "cell_type": "code",
   "execution_count": 35,
   "id": "1e60925b-ef1b-4a60-8bd0-d33c3c13d44c",
   "metadata": {
    "tags": []
   },
   "outputs": [],
   "source": [
    "# Word length features\n",
    "import string"
   ]
  },
  {
   "cell_type": "code",
   "execution_count": 36,
   "id": "7b673e3b-631c-43d5-a056-564c08f8befe",
   "metadata": {
    "tags": []
   },
   "outputs": [],
   "source": [
    "# function to find word lengths, we'll use for the next features\n",
    "def word_lengths(text):\n",
    "    words = text.split()\n",
    "    lengths = [len(word.strip(string.punctuation)) for word in words]\n",
    "    return lengths"
   ]
  },
  {
   "cell_type": "code",
   "execution_count": 37,
   "id": "d9679419-0c3b-4859-a7bd-78da9254d5fa",
   "metadata": {
    "tags": []
   },
   "outputs": [],
   "source": [
    "# Max word length\n",
    "data['Max word length'] = data['tweet'].apply(lambda x: max(word_lengths(x)) if word_lengths(x) else 0)\n",
    "\n",
    "# min word lenggth\n",
    "data['Min word length'] = data['tweet'].apply(lambda x: min(word_lengths(x)) if word_lengths(x) else 0)\n",
    "\n",
    "# Avg. word length\n",
    "data['Average word length'] = data['tweet'].apply(lambda x: sum(word_lengths(x)) / len(word_lengths(x)) if word_lengths(x) else 0)"
   ]
  },
  {
   "cell_type": "code",
   "execution_count": 38,
   "id": "5c7c012e-7e44-414e-ba23-d6133b0c781b",
   "metadata": {
    "tags": []
   },
   "outputs": [],
   "source": [
    "# hashtags\n",
    "data['hashtags'] = 0\n",
    "data['feature_count'] = data['tweet'].str.count('#')\n",
    "data['hashtags'] = data['hashtags'] + data['feature_count']\n",
    "data.drop(columns=['feature_count'], inplace=True)"
   ]
  },
  {
   "cell_type": "markdown",
   "id": "40bf7ef8-f913-4b01-a4ce-39c64734d18d",
   "metadata": {},
   "source": [
    "## spacy lexical recalculations"
   ]
  },
  {
   "cell_type": "markdown",
   "id": "9837117c-c6d2-4db3-861f-9ac4c913fe49",
   "metadata": {},
   "source": [
    "Now to the lexical features.\n",
    "\n",
    "That's more complex. Took me a while to get it how it words and deal with importing the lib and pipelines. There was not problem with the smaller pipeline, which works faster, but it took some time to setup the larger and more 'accurate' pipeline en_core_web_trf."
   ]
  },
  {
   "cell_type": "code",
   "execution_count": 39,
   "id": "bd444230-1643-4132-b211-2ecfafea7709",
   "metadata": {
    "tags": []
   },
   "outputs": [],
   "source": [
    "import spacy"
   ]
  },
  {
   "cell_type": "code",
   "execution_count": null,
   "id": "23dd77a6-4c2f-4933-a495-1f09f381dd24",
   "metadata": {},
   "outputs": [],
   "source": [
    "nlp = spacy.load(\"en_core_web_sm\")"
   ]
  },
  {
   "cell_type": "code",
   "execution_count": null,
   "id": "d84f9a0e-69fb-4972-8990-add860e5d52e",
   "metadata": {},
   "outputs": [],
   "source": [
    "# I don't want to do that 'inplace', so i'll make additional features, then drop the old features.\n",
    "\n",
    "def count_pos(text):\n",
    "    doc = nlp(text)\n",
    "    pos_counts = {\n",
    "        'present_verbs_g': 0,\n",
    "        'past_verbs_g': 0,\n",
    "        'adjectives_g': 0,\n",
    "        'adverbs_g': 0,\n",
    "        'adpositions_g': 0,\n",
    "        'pronouns_g': 0,\n",
    "        'TOs_g': 0,\n",
    "        'determiners_g': 0,\n",
    "        'conjunctions_g': 0\n",
    "    }\n",
    "    for token in doc:\n",
    "        if token.pos_ == 'VERB':\n",
    "            if token.tag_ in ['VB', 'VBP', 'VBZ']:\n",
    "                pos_counts['present_verbs_g'] += 1\n",
    "            elif token.tag_ in ['VBD', 'VBN']:\n",
    "                pos_counts['past_verbs_g'] += 1\n",
    "        elif token.pos_ == 'ADJ':\n",
    "            pos_counts['adjectives_g'] += 1\n",
    "        elif token.pos_ == 'ADV':\n",
    "            pos_counts['adverbs_g'] += 1\n",
    "        elif token.pos_ == 'ADP':\n",
    "            pos_counts['adpositions_g'] += 1\n",
    "        elif token.pos_ == 'PRON':\n",
    "            pos_counts['pronouns_g'] += 1\n",
    "        elif token.text == 'to':\n",
    "            pos_counts['TOs_g'] += 1\n",
    "        elif token.pos_ == 'DET':\n",
    "            pos_counts['determiners_g'] += 1\n",
    "        elif token.pos_ == 'CCONJ' or token.pos_ == 'SCONJ':\n",
    "            pos_counts['conjunctions_g'] += 1\n",
    "    return pd.Series(pos_counts)"
   ]
  },
  {
   "cell_type": "code",
   "execution_count": null,
   "id": "e36d9de2-7177-4d51-befb-03d13260033e",
   "metadata": {},
   "outputs": [],
   "source": [
    "pos_counts_df = data['tweet'].apply(count_pos)\n",
    "df = data.join(pos_counts_df)"
   ]
  },
  {
   "cell_type": "code",
   "execution_count": null,
   "id": "7f26f115-b212-4be6-947f-e1de540a668c",
   "metadata": {},
   "outputs": [],
   "source": [
    "# dropppinf old and renaming\n",
    "data.drop(columns=['present_verbs', 'past_verbs', 'adjectives', 'adverbs', 'adpositions', 'pronouns', 'TOs', 'determiners', 'conjunctions'], inplace=True)"
   ]
  },
  {
   "cell_type": "code",
   "execution_count": null,
   "id": "3c511f96-7eee-418d-a1a0-e97e28a3241b",
   "metadata": {},
   "outputs": [],
   "source": [
    "ren_columns = {'present_verbs_g' : 'present_verbs', \n",
    "               'past_verbs_g' : 'past_verbs', \n",
    "               'adjectives_g': 'adjectives', \n",
    "               'adverbs_g' : 'adverbs', \n",
    "               'adpositions_g' : 'adpositions', \n",
    "               'pronouns_g' : 'pronouns', \n",
    "               'TOs_g' : 'TOs', \n",
    "               'determiners_g' : 'determiners', \n",
    "               'conjunctions_g' : 'conjunctions' \n",
    "              }\n",
    "data.rename(columns=ren_columns, inplace=True)\n",
    "data.drop(columns=['present_verbs_g','past_verbs_g','adjectives_g','adverbs_g','adpositions_g','pronouns_g','TOs_g','determiners_g','conjunctions_g'], inplace=True)\n",
    "# ok that could have been done in a more efficient pythonic way..."
   ]
  },
  {
   "cell_type": "markdown",
   "id": "2fe4482a-efa7-48ec-9e67-443c4decbcc7",
   "metadata": {},
   "source": [
    "#### Now about short/long"
   ]
  },
  {
   "cell_type": "markdown",
   "id": "113c3de3-ba86-4e8b-b6f9-e23b3f83b263",
   "metadata": {},
   "source": [
    "I tried to find out what the researchers meant by the short and long words. 5 characters -- is it short or long? \n",
    "\n",
    "So I decided to recalculate that too and did a tiny research.\n",
    "\n",
    "In English a short word is considered to be a word of 3 letters. Then go middle words. And from 7 and up -- the long words. We don't want (for now?) to implement a new feature -- \"middle word\". So we'll be considering everything starting from 7 as long, axnd below that threshold as short words. 7 is long.\n",
    "\n",
    "_so say we all_"
   ]
  },
  {
   "cell_type": "code",
   "execution_count": 40,
   "id": "cbeed0ef-3e7f-4918-b7bf-2b80618cb753",
   "metadata": {
    "tags": []
   },
   "outputs": [
    {
     "name": "stdout",
     "output_type": "stream",
     "text": [
      "Blunders\n",
      "Inflation\n",
      "mismanagement\n",
      "Abandoning\n",
      "Americans\n",
      "Afghanistan\n",
      "Taliban\n",
      "Breaking\n",
      "through\n",
      "Reconciliation\n",
      "Eviction\n",
      "Moratorium\n"
     ]
    }
   ],
   "source": [
    "# tiny test\n",
    "text = '@POTUS Biden Blunders - 6 Month Update\\n\\nInflation, Delta mismanagement, COVID for kids, Abandoning Americans in Afghanistan, Arming the Taliban, S. Border crisis, Breaking job growth, Abuse of power (Many Exec Orders, $3.5T through Reconciliation, Eviction Moratorium)...what did I miss?'\n",
    "w = re.findall(r'\\b\\w+\\b', text)\n",
    "# w = text.split()\n",
    "for word in w:\n",
    "    if word.isalpha() and len(word) >6:\n",
    "        print(word)"
   ]
  },
  {
   "cell_type": "code",
   "execution_count": 44,
   "id": "8ab3aea4-a3c0-4af4-80b5-c7b9b830de18",
   "metadata": {
    "tags": []
   },
   "outputs": [],
   "source": [
    "threshold = 7\n",
    "\n",
    "def count_word_types(text):\n",
    "    words = re.findall(r'\\b\\w+\\b', text)\n",
    "    short_words = sum(1 for word in words if word.isalpha() and len(word) < threshold)\n",
    "    long_words = sum(1 for word in words if word.isalpha() and len(word) >= threshold)\n",
    "    return pd.Series({\n",
    "        'short_word_freq': short_words,\n",
    "        'long_word_freq': long_words\n",
    "    })"
   ]
  },
  {
   "cell_type": "code",
   "execution_count": 48,
   "id": "03e4512e-051f-4d4b-a6f4-9dcfb8564fb3",
   "metadata": {
    "tags": []
   },
   "outputs": [],
   "source": [
    "# drop existing columns\n",
    "data.drop(columns=['long_word_freq','short_word_freq'], inplace=True)"
   ]
  },
  {
   "cell_type": "code",
   "execution_count": 49,
   "id": "c63f3c98-cb2c-4ca5-a81a-d0909234c2de",
   "metadata": {
    "tags": []
   },
   "outputs": [],
   "source": [
    "word_counts_df = data['tweet'].apply(count_word_types)\n",
    "data = data.join(word_counts_df)\n",
    "\n",
    "# now at least we know what stands behind short and long"
   ]
  },
  {
   "cell_type": "markdown",
   "id": "07eedc5c-0d81-495d-8cc2-a177489b085c",
   "metadata": {},
   "source": [
    "### spacy tags recalculation"
   ]
  },
  {
   "cell_type": "code",
   "execution_count": null,
   "id": "5af5cf10-07af-4d03-b099-03caa73ef3e2",
   "metadata": {},
   "outputs": [],
   "source": [
    "# same as before, i want to keep the existing columns and add the new ones to compare the results\n",
    "def calculate_entity_percentages(text):\n",
    "    doc = nlp(text)\n",
    "    total_tokens = len(doc)\n",
    "    \n",
    "    entity_counts = {\n",
    "            'ORG_percent': 0,\n",
    "            'GPE_percent': 0,\n",
    "            'MONEY_percent': 0,\n",
    "            'EVENT_percent': 0,\n",
    "            'PRODUCT_percent': 0,\n",
    "            'NORP_percent': 0,\n",
    "            'WORK_OF_ART_percent': 0,\n",
    "            'LAW_percent': 0,\n",
    "            'FAC_percent': 0,\n",
    "            'CARDINAL_percent': 0,\n",
    "            'QUANTITY_percent': 0,\n",
    "            'LANGUAGE_percent': 0,\n",
    "            'DATE_percent': 0,\n",
    "            'LOC_percent': 0,\n",
    "            'ORDINAL_percent': 0,\n",
    "            'PERCENT_percent': 0,\n",
    "            'PERSON_percent': 0,\n",
    "            'TIME_percent': 0\n",
    "    }\n",
    "    \n",
    "    for ent in doc.ents:\n",
    "        if ent.label_ == 'ORG':\n",
    "            entity_counts['ORG_percent'] += 1\n",
    "        elif ent.label_ == 'FAC':\n",
    "            entity_counts['FAC_percent'] += 1\n",
    "        elif ent.label_ == 'NORP':\n",
    "            entity_counts['NORP_percent'] += 1\n",
    "        elif ent.label_ == 'GPE':\n",
    "            entity_counts['GPE_percent'] += 1\n",
    "        elif ent.label_ == 'MONEY':\n",
    "            entity_counts['MONEY_percent'] += 1\n",
    "        elif ent.label_ == 'DATE':\n",
    "            entity_counts['DATE_percent'] += 1\n",
    "        elif ent.label_ == 'CARDINAL':\n",
    "            entity_counts['CARDINAL_percent'] += 1\n",
    "        elif ent.label_ == 'LAW':\n",
    "            entity_counts['LAW_percent'] += 1\n",
    "        elif ent.label_ == 'PRODUCT':\n",
    "            entity_counts['PRODUCT_percent'] += 1\n",
    "        elif ent.label_ == 'EVENT':\n",
    "            entity_counts['EVENT_percent'] += 1\n",
    "        elif ent.label_ == 'WORK_OF_ART':\n",
    "            entity_counts['WORK_OF_ART_percent'] += 1\n",
    "        elif ent.label_ == 'QUANTITY':\n",
    "            entity_counts['QUANTITY_percent'] += 1\n",
    "        elif ent.label_ == 'LANGUAGE':\n",
    "            entity_counts['LANGUAGE_percent'] += 1,\n",
    "        elif ent.label_ == 'LOC':\n",
    "            entity_counts['LOC_percent'] += 1,\n",
    "        elif ent.label_ == 'ORDINAL':\n",
    "            entity_counts['ORDINAL_percent'] += 1,\n",
    "        elif ent.label_ == 'PERCENT':\n",
    "            entity_counts['PERCENT_percent'] += 1,\n",
    "        elif ent.label_ == 'PERSON':\n",
    "            entity_counts['PERSON_percent'] += 1,\n",
    "        elif ent.label_ == 'TIME':\n",
    "            entity_counts['TIME_percent'] += 1\n",
    "    \n",
    "    for key in entity_counts.keys():\n",
    "        entity_counts[key] = (entity_counts[key] / total_tokens) * 100 if total_tokens > 0 else 0\n",
    "    \n",
    "    return pd.Series(entity_counts)"
   ]
  },
  {
   "cell_type": "code",
   "execution_count": null,
   "id": "a5acc8ce-e1df-497a-97e1-2e6899d58534",
   "metadata": {},
   "outputs": [],
   "source": [
    "# that took a while to process. Like 8-9 hours.\n",
    "\n",
    "entity_percentages_df = data['tweet'].apply(calculate_entity_percentages)\n",
    "data = data.join(entity_percentages_df)"
   ]
  },
  {
   "cell_type": "code",
   "execution_count": null,
   "id": "0626d2a8-504b-4a80-8972-56c52bdbb7c0",
   "metadata": {},
   "outputs": [],
   "source": [
    "# now we can drop the old and rename the new columns\n",
    "data.drop(columns=[\n",
    "                    'ORG_percentage', \n",
    "                    'NORP_percentage', \n",
    "                    'GPE_percentage', \n",
    "                    'PERSON_percentage', \n",
    "                    'MONEY_percentage', \n",
    "                    'DATE_percentage', \n",
    "                    'CARDINAL_percentage', \n",
    "                    'PERCENT_percentage', \n",
    "                    'ORDINAL_percentage', \n",
    "                    'FAC_percentage', \n",
    "                    'LAW_percentage', \n",
    "                    'PRODUCT_percentage', \n",
    "                    'EVENT_percentage', \n",
    "                    'TIME_percentage', \n",
    "                    'LOC_percentage', \n",
    "                    'WORK_OF_ART_percentage', \n",
    "                    'QUANTITY_percentage', \n",
    "                    'LANGUAGE_percentage'\n",
    "                     ], inplace=True)\n",
    "\n",
    "v3_data.rename(columns={\n",
    "    'ORG_percent': 'ORG_percentage',\n",
    "    'NORP_percent': 'NORP_percentage',\n",
    "    'GPE_percent': 'GPE_percentage',\n",
    "    'PERSON_percent': 'PERSON_percentage',\n",
    "    'MONEY_percent': 'MONEY_percentage',\n",
    "    'DATE_percent': 'DATE_percentage',\n",
    "    'CARDINAL_percent': 'CARDINAL_percentage',\n",
    "    'PERCENT_percent': 'PERCENT_percentage',\n",
    "    'ORDINAL_percent': 'ORDINAL_percentage',\n",
    "    'FAC_percent': 'FAC_percentage',\n",
    "    'LAW_percent': 'LAW_percentage',\n",
    "    'PRODUCT_percent': 'PRODUCT_percentage',\n",
    "    'EVENT_percent': 'EVENT_percentage',\n",
    "    'TIME_percent': 'TIME_percentage',\n",
    "    'LOC_percent': 'LOC_percentage',\n",
    "    'WORK_OF_ART_percent': 'WORK_OF_ART_percentage',\n",
    "    'QUANTITY_percent': 'QUANTITY_percentage',\n",
    "    'LANGUAGE_percent':'LANGUAGE_percentage'\n",
    "}, inplace=True)"
   ]
  },
  {
   "cell_type": "markdown",
   "id": "9be9ebf8-0442-44ee-97cc-6cee040ce651",
   "metadata": {},
   "source": [
    "Now after vmaking sure everything looks normal, that all features are recalculaated, that the tags make sense (if there's a person in text or date we can see that in our renewed dataset PERSON and DATE tags reflect that) we can save it as a new dataset to continue work."
   ]
  },
  {
   "cell_type": "code",
   "execution_count": 51,
   "id": "eee15c2b-b420-45b8-b4f4-22f48f643555",
   "metadata": {
    "tags": []
   },
   "outputs": [],
   "source": [
    "pd.reset_option('display.max_colwidth')\n",
    "pd.reset_option('display.max_columns')"
   ]
  },
  {
   "cell_type": "code",
   "execution_count": 30,
   "id": "82dde259-1f83-44e7-b9a4-82e349ad05ae",
   "metadata": {
    "tags": []
   },
   "outputs": [],
   "source": [
    "# We can't use .csv as pandas does not preserve the new datatypes, it uses default dtypes, so we save data to parquet\n",
    "# corrected_file_path = '../data/dataset.parquet'\n",
    "# df.to_parquet(corrected_file_path, index=False)\n",
    "\n",
    "\n",
    "\n",
    "\n",
    "# corrected_file_path = '../data/Features_For_Traditional_ML_Techniques_v3.csv'\n",
    "# data.to_csv(corrected_file_path, index=False)\n",
    "\n",
    "# corrected_file_path"
   ]
  },
  {
   "cell_type": "code",
   "execution_count": 11,
   "id": "25bc1adf-0fe6-4d38-bf4d-a466c24a43ea",
   "metadata": {
    "tags": []
   },
   "outputs": [],
   "source": [
    "# # That plot for scaled data. Scale and see how it looks\n",
    "# plt.scatter(X_train_scaled[:,0], X_train_scaled[:,1])\n",
    "# plt.title('Linearly separable data')\n",
    "# plt.xlabel('X1')\n",
    "# plt.ylabel('X2')\n",
    "# plt.show();"
   ]
  },
  {
   "cell_type": "code",
   "execution_count": null,
   "id": "7010d21b-7e41-439c-ba97-9752fa7bb20c",
   "metadata": {},
   "outputs": [],
   "source": []
  },
  {
   "cell_type": "code",
   "execution_count": null,
   "id": "141ed647-5065-4725-b184-cab57e89a432",
   "metadata": {},
   "outputs": [],
   "source": []
  }
 ],
 "metadata": {
  "kernelspec": {
   "display_name": "Python 3 (ipykernel)",
   "language": "python",
   "name": "python3"
  },
  "language_info": {
   "codemirror_mode": {
    "name": "ipython",
    "version": 3
   },
   "file_extension": ".py",
   "mimetype": "text/x-python",
   "name": "python",
   "nbconvert_exporter": "python",
   "pygments_lexer": "ipython3",
   "version": "3.11.0"
  }
 },
 "nbformat": 4,
 "nbformat_minor": 5
}
