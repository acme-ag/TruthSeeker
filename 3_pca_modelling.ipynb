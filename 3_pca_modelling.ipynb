{
 "cells": [
  {
   "cell_type": "code",
   "execution_count": 1,
   "id": "2d862445-1915-47d5-bf26-c1a917d996df",
   "metadata": {
    "tags": []
   },
   "outputs": [],
   "source": [
    "import warnings\n",
    "warnings.filterwarnings('ignore')\n",
    "\n",
    "from IPython.core.interactiveshell import InteractiveShell\n",
    "InteractiveShell.ast_node_interactivity = \"all\""
   ]
  },
  {
   "cell_type": "code",
   "execution_count": 2,
   "id": "0e670c2f-d2ea-471e-8264-a4d95664893b",
   "metadata": {
    "tags": []
   },
   "outputs": [],
   "source": [
    "import numpy as np\n",
    "import pandas as pd\n",
    "import matplotlib.pyplot as plt\n",
    "import seaborn as sns"
   ]
  },
  {
   "cell_type": "code",
   "execution_count": 3,
   "id": "c9702e6d-bbe2-41e4-83e2-89bbca9d0e5e",
   "metadata": {
    "tags": []
   },
   "outputs": [],
   "source": [
    "# pd.set_option('display.max_colwidth', None)\n",
    "# pd.set_option('display.max_columns', None)"
   ]
  },
  {
   "cell_type": "markdown",
   "id": "c29aecc7-0790-47c7-9e1b-6a83efda2480",
   "metadata": {},
   "source": [
    "Here we'll perform PCA to define what data configuration we're going to take into work, deal with otliers and scale data. Then we'll get to modelling."
   ]
  },
  {
   "cell_type": "code",
   "execution_count": 4,
   "id": "8e19a161-76fc-4507-be40-0514dae26fe3",
   "metadata": {
    "tags": []
   },
   "outputs": [],
   "source": [
    "# df = pd.read_csv('../data/Features_For_Traditional_ML_Techniques_v3_1.csv')\n",
    "df = pd.read_parquet('../data/dataset.parquet')"
   ]
  },
  {
   "cell_type": "code",
   "execution_count": 5,
   "id": "e71485a5-372b-47dc-8d3f-b9a1c34c7c71",
   "metadata": {
    "tags": []
   },
   "outputs": [
    {
     "data": {
      "text/html": [
       "<div>\n",
       "<style scoped>\n",
       "    .dataframe tbody tr th:only-of-type {\n",
       "        vertical-align: middle;\n",
       "    }\n",
       "\n",
       "    .dataframe tbody tr th {\n",
       "        vertical-align: top;\n",
       "    }\n",
       "\n",
       "    .dataframe thead th {\n",
       "        text-align: right;\n",
       "    }\n",
       "</style>\n",
       "<table border=\"1\" class=\"dataframe\">\n",
       "  <thead>\n",
       "    <tr style=\"text-align: right;\">\n",
       "      <th></th>\n",
       "      <th>statement</th>\n",
       "      <th>BinaryNumTarget</th>\n",
       "      <th>tweet</th>\n",
       "      <th>followers_count</th>\n",
       "      <th>friends_count</th>\n",
       "      <th>favourites_count</th>\n",
       "      <th>statuses_count</th>\n",
       "      <th>listed_count</th>\n",
       "      <th>BotScore</th>\n",
       "      <th>BotScoreBinary</th>\n",
       "      <th>...</th>\n",
       "      <th>PRODUCT_percentage</th>\n",
       "      <th>EVENT_percentage</th>\n",
       "      <th>WORK_OF_ART_percentage</th>\n",
       "      <th>QUANTITY_percentage</th>\n",
       "      <th>LOC_percentage</th>\n",
       "      <th>PERCENT_percentage</th>\n",
       "      <th>LANGUAGE_percentage</th>\n",
       "      <th>TIME_percentage</th>\n",
       "      <th>PERSON_percentage</th>\n",
       "      <th>total_engagement</th>\n",
       "    </tr>\n",
       "  </thead>\n",
       "  <tbody>\n",
       "    <tr>\n",
       "      <th>0</th>\n",
       "      <td>End of eviction moratorium means millions of A...</td>\n",
       "      <td>1</td>\n",
       "      <td>@POTUS Biden Blunders - 6 Month Update\\n\\nInfl...</td>\n",
       "      <td>4262</td>\n",
       "      <td>3619</td>\n",
       "      <td>34945</td>\n",
       "      <td>16423</td>\n",
       "      <td>44</td>\n",
       "      <td>0.03</td>\n",
       "      <td>0</td>\n",
       "      <td>...</td>\n",
       "      <td>0.0</td>\n",
       "      <td>0.0</td>\n",
       "      <td>0.0</td>\n",
       "      <td>0.0</td>\n",
       "      <td>0.0</td>\n",
       "      <td>0.0</td>\n",
       "      <td>0.0</td>\n",
       "      <td>0.0</td>\n",
       "      <td>1.785714</td>\n",
       "      <td>0.265026</td>\n",
       "    </tr>\n",
       "  </tbody>\n",
       "</table>\n",
       "<p>1 rows × 62 columns</p>\n",
       "</div>"
      ],
      "text/plain": [
       "                                           statement  BinaryNumTarget  \\\n",
       "0  End of eviction moratorium means millions of A...                1   \n",
       "\n",
       "                                               tweet  followers_count  \\\n",
       "0  @POTUS Biden Blunders - 6 Month Update\\n\\nInfl...             4262   \n",
       "\n",
       "   friends_count  favourites_count  statuses_count  listed_count  BotScore  \\\n",
       "0           3619             34945           16423            44      0.03   \n",
       "\n",
       "   BotScoreBinary  ...  PRODUCT_percentage  EVENT_percentage  \\\n",
       "0               0  ...                 0.0               0.0   \n",
       "\n",
       "   WORK_OF_ART_percentage  QUANTITY_percentage  LOC_percentage  \\\n",
       "0                     0.0                  0.0             0.0   \n",
       "\n",
       "   PERCENT_percentage  LANGUAGE_percentage  TIME_percentage  \\\n",
       "0                 0.0                  0.0              0.0   \n",
       "\n",
       "   PERSON_percentage  total_engagement  \n",
       "0           1.785714          0.265026  \n",
       "\n",
       "[1 rows x 62 columns]"
      ]
     },
     "execution_count": 5,
     "metadata": {},
     "output_type": "execute_result"
    }
   ],
   "source": [
    "df.head(1)"
   ]
  },
  {
   "cell_type": "code",
   "execution_count": 6,
   "id": "b1d27b91-ba68-4a65-9741-f2bd42dd753f",
   "metadata": {
    "tags": []
   },
   "outputs": [
    {
     "data": {
      "text/plain": [
       "(134198, 62)"
      ]
     },
     "execution_count": 6,
     "metadata": {},
     "output_type": "execute_result"
    },
    {
     "name": "stdout",
     "output_type": "stream",
     "text": [
      "<class 'pandas.core.frame.DataFrame'>\n",
      "RangeIndex: 134198 entries, 0 to 134197\n",
      "Data columns (total 62 columns):\n",
      " #   Column                  Non-Null Count   Dtype  \n",
      "---  ------                  --------------   -----  \n",
      " 0   statement               134198 non-null  object \n",
      " 1   BinaryNumTarget         134198 non-null  int8   \n",
      " 2   tweet                   134198 non-null  object \n",
      " 3   followers_count         134198 non-null  int64  \n",
      " 4   friends_count           134198 non-null  int32  \n",
      " 5   favourites_count        134198 non-null  int32  \n",
      " 6   statuses_count          134198 non-null  int32  \n",
      " 7   listed_count            134198 non-null  int32  \n",
      " 8   BotScore                134198 non-null  float32\n",
      " 9   BotScoreBinary          134198 non-null  int8   \n",
      " 10  cred                    134198 non-null  float32\n",
      " 11  normalize_influence     134198 non-null  float32\n",
      " 12  mentions                134198 non-null  int16  \n",
      " 13  quotes                  134198 non-null  int16  \n",
      " 14  replies                 134198 non-null  int32  \n",
      " 15  retweets                134198 non-null  int32  \n",
      " 16  favourites              134198 non-null  int32  \n",
      " 17  hashtags                134198 non-null  int16  \n",
      " 18  URLs                    134198 non-null  int16  \n",
      " 19  unique_count            134198 non-null  int16  \n",
      " 20  total_count             134198 non-null  int16  \n",
      " 21  Word count              134198 non-null  int16  \n",
      " 22  Max word length         134198 non-null  int16  \n",
      " 23  Min word length         134198 non-null  int16  \n",
      " 24  Average word length     134198 non-null  float32\n",
      " 25  present_verbs           134198 non-null  int16  \n",
      " 26  past_verbs              134198 non-null  int16  \n",
      " 27  adjectives              134198 non-null  int16  \n",
      " 28  adverbs                 134198 non-null  int16  \n",
      " 29  adpositions             134198 non-null  int16  \n",
      " 30  pronouns                134198 non-null  int16  \n",
      " 31  TOs                     134198 non-null  int16  \n",
      " 32  determiners             134198 non-null  int16  \n",
      " 33  conjunctions            134198 non-null  int16  \n",
      " 34  dots                    134198 non-null  int16  \n",
      " 35  exclamation             134198 non-null  int16  \n",
      " 36  questions               134198 non-null  int16  \n",
      " 37  ampersand               134198 non-null  int16  \n",
      " 38  capitals                134198 non-null  int16  \n",
      " 39  digits                  134198 non-null  int16  \n",
      " 40  short_word_freq         134198 non-null  int16  \n",
      " 41  long_word_freq          134198 non-null  int16  \n",
      " 42  ratio_short_to_long     134198 non-null  float64\n",
      " 43  ORG_percentage          134198 non-null  float32\n",
      " 44  NORP_percentage         134198 non-null  float32\n",
      " 45  GPE_percentage          134198 non-null  float32\n",
      " 46  MONEY_percentage        134198 non-null  float32\n",
      " 47  DATE_percentage         134198 non-null  float32\n",
      " 48  CARDINAL_percentage     134198 non-null  float32\n",
      " 49  ORDINAL_percentage      134198 non-null  float32\n",
      " 50  FAC_percentage          134198 non-null  float32\n",
      " 51  LAW_percentage          134198 non-null  float32\n",
      " 52  PRODUCT_percentage      134198 non-null  float32\n",
      " 53  EVENT_percentage        134198 non-null  float32\n",
      " 54  WORK_OF_ART_percentage  134198 non-null  float32\n",
      " 55  QUANTITY_percentage     134198 non-null  float32\n",
      " 56  LOC_percentage          134198 non-null  float32\n",
      " 57  PERCENT_percentage      134198 non-null  float32\n",
      " 58  LANGUAGE_percentage     134198 non-null  float32\n",
      " 59  TIME_percentage         134198 non-null  float32\n",
      " 60  PERSON_percentage       134198 non-null  float32\n",
      " 61  total_engagement        134198 non-null  float32\n",
      "dtypes: float32(23), float64(1), int16(26), int32(7), int64(1), int8(2), object(2)\n",
      "memory usage: 26.4+ MB\n"
     ]
    }
   ],
   "source": [
    "df.shape\n",
    "df.info()"
   ]
  },
  {
   "cell_type": "markdown",
   "id": "539ddc1d-b8ea-4952-9e20-0eb858be5d68",
   "metadata": {},
   "source": [
    "# PCA 1"
   ]
  },
  {
   "cell_type": "markdown",
   "id": "011ffbc9-7577-4a29-b68b-c4a211cfcff7",
   "metadata": {},
   "source": [
    "### Small side step\n",
    "\n",
    "We want to try to engineer that engagement feature we had made in the previous step but with PCA. And compare the performance."
   ]
  },
  {
   "cell_type": "code",
   "execution_count": 7,
   "id": "647c5229-d36f-46f9-91ef-69ded7dafeba",
   "metadata": {},
   "outputs": [],
   "source": [
    "from sklearn.preprocessing import StandardScaler\n",
    "from sklearn.decomposition import PCA\n",
    "\n",
    "# 1. select the engagement features we wanna have:\n",
    "engagement_features = ['replies', 'retweets', 'favourites', 'quotes']\n",
    "activity_features = ['followers_count', 'listed_count']\n",
    "\n",
    "# now log-transform and scale the features\n",
    "X_ef, X_ac = np.log1p(df[engagement_features]), np.log1p(df[activity_features])\n",
    "X_ef_scaled = StandardScaler().fit_transform(X_ef)\n",
    "X_ac_scaled = StandardScaler().fit_transform(X_ac)"
   ]
  },
  {
   "cell_type": "code",
   "execution_count": 8,
   "id": "6a5ee789-ab1d-4f5f-8979-a0ebcbd869f6",
   "metadata": {},
   "outputs": [],
   "source": [
    "# 2. then we apply PCA\n",
    "pca = PCA(n_components=1)  # we need only one PC for our engagement score\n",
    "\n",
    "engagement_pca = pca.fit_transform(X_ef_scaled)\n",
    "activity_pca = pca.fit_transform(X_ac_scaled)"
   ]
  },
  {
   "cell_type": "code",
   "execution_count": 9,
   "id": "158f7a1f-97e4-490e-abfd-4956d688f874",
   "metadata": {},
   "outputs": [],
   "source": [
    "# 3. add pca engagement to dataset\n",
    "\n",
    "df['total_engagement_pca'] = engagement_pca\n",
    "df['activity_pca'] = activity_pca"
   ]
  },
  {
   "cell_type": "markdown",
   "id": "5ec3d09b-641f-4845-ae6f-79d2d0970b5f",
   "metadata": {},
   "source": [
    "For further we'll create a copy of dataset, to ease the rollback if needed."
   ]
  },
  {
   "cell_type": "code",
   "execution_count": 10,
   "id": "2d9d2d02-d99c-4be9-8e27-44ab90293aea",
   "metadata": {
    "tags": []
   },
   "outputs": [],
   "source": [
    "dfx = df.copy()\n",
    "dfx.drop(columns=['statement', 'tweet', 'short_word_freq', 'long_word_freq', 'replies', 'retweets', 'quotes', 'favourites', 'total_engagement', 'BotScore', 'listed_count', 'followers_count'], inplace=True)"
   ]
  },
  {
   "cell_type": "markdown",
   "id": "99ae6216-ecbe-4ad3-8883-0271031783a6",
   "metadata": {},
   "source": [
    "# Outliers"
   ]
  },
  {
   "cell_type": "markdown",
   "id": "30cf6450-038e-4e7a-a3fb-2ac30196e95c",
   "metadata": {},
   "source": [
    "In fact that does not give much result"
   ]
  },
  {
   "cell_type": "code",
   "execution_count": 11,
   "id": "d8893fe1-67eb-4b78-83ec-5cef67cd8658",
   "metadata": {
    "tags": []
   },
   "outputs": [],
   "source": [
    "from scipy.stats.mstats import winsorize\n",
    "\n",
    "# # Applying winsorization to each feature\n",
    "def winsorize_data(series, limits=[0.01, 0.00001]):\n",
    "    return winsorize(series, limits=limits)\n",
    "\n",
    "dfx = dfx.apply(winsorize_data)"
   ]
  },
  {
   "cell_type": "markdown",
   "id": "dedadf09-11bf-40ce-ad3a-68a28d51ff65",
   "metadata": {},
   "source": [
    "# PCA 2"
   ]
  },
  {
   "cell_type": "markdown",
   "id": "f19440da-6f47-449d-9be9-c531ab682568",
   "metadata": {},
   "source": [
    "### Standardize the data"
   ]
  },
  {
   "cell_type": "code",
   "execution_count": 12,
   "id": "409e157b-c526-4f8f-83a2-1c2862added2",
   "metadata": {
    "tags": []
   },
   "outputs": [],
   "source": [
    "# 1.\n",
    "scaler = StandardScaler()\n",
    "dfx_standardized = scaler.fit_transform(dfx)"
   ]
  },
  {
   "cell_type": "markdown",
   "id": "388cce98-c32d-4f96-8cd0-e214adfc7d37",
   "metadata": {},
   "source": [
    "### PCA"
   ]
  },
  {
   "cell_type": "code",
   "execution_count": 13,
   "id": "58a4f483-3d0a-41f4-a9a7-d08c84846269",
   "metadata": {
    "tags": []
   },
   "outputs": [
    {
     "data": {
      "text/html": [
       "<style>#sk-container-id-1 {\n",
       "  /* Definition of color scheme common for light and dark mode */\n",
       "  --sklearn-color-text: black;\n",
       "  --sklearn-color-line: gray;\n",
       "  /* Definition of color scheme for unfitted estimators */\n",
       "  --sklearn-color-unfitted-level-0: #fff5e6;\n",
       "  --sklearn-color-unfitted-level-1: #f6e4d2;\n",
       "  --sklearn-color-unfitted-level-2: #ffe0b3;\n",
       "  --sklearn-color-unfitted-level-3: chocolate;\n",
       "  /* Definition of color scheme for fitted estimators */\n",
       "  --sklearn-color-fitted-level-0: #f0f8ff;\n",
       "  --sklearn-color-fitted-level-1: #d4ebff;\n",
       "  --sklearn-color-fitted-level-2: #b3dbfd;\n",
       "  --sklearn-color-fitted-level-3: cornflowerblue;\n",
       "\n",
       "  /* Specific color for light theme */\n",
       "  --sklearn-color-text-on-default-background: var(--sg-text-color, var(--theme-code-foreground, var(--jp-content-font-color1, black)));\n",
       "  --sklearn-color-background: var(--sg-background-color, var(--theme-background, var(--jp-layout-color0, white)));\n",
       "  --sklearn-color-border-box: var(--sg-text-color, var(--theme-code-foreground, var(--jp-content-font-color1, black)));\n",
       "  --sklearn-color-icon: #696969;\n",
       "\n",
       "  @media (prefers-color-scheme: dark) {\n",
       "    /* Redefinition of color scheme for dark theme */\n",
       "    --sklearn-color-text-on-default-background: var(--sg-text-color, var(--theme-code-foreground, var(--jp-content-font-color1, white)));\n",
       "    --sklearn-color-background: var(--sg-background-color, var(--theme-background, var(--jp-layout-color0, #111)));\n",
       "    --sklearn-color-border-box: var(--sg-text-color, var(--theme-code-foreground, var(--jp-content-font-color1, white)));\n",
       "    --sklearn-color-icon: #878787;\n",
       "  }\n",
       "}\n",
       "\n",
       "#sk-container-id-1 {\n",
       "  color: var(--sklearn-color-text);\n",
       "}\n",
       "\n",
       "#sk-container-id-1 pre {\n",
       "  padding: 0;\n",
       "}\n",
       "\n",
       "#sk-container-id-1 input.sk-hidden--visually {\n",
       "  border: 0;\n",
       "  clip: rect(1px 1px 1px 1px);\n",
       "  clip: rect(1px, 1px, 1px, 1px);\n",
       "  height: 1px;\n",
       "  margin: -1px;\n",
       "  overflow: hidden;\n",
       "  padding: 0;\n",
       "  position: absolute;\n",
       "  width: 1px;\n",
       "}\n",
       "\n",
       "#sk-container-id-1 div.sk-dashed-wrapped {\n",
       "  border: 1px dashed var(--sklearn-color-line);\n",
       "  margin: 0 0.4em 0.5em 0.4em;\n",
       "  box-sizing: border-box;\n",
       "  padding-bottom: 0.4em;\n",
       "  background-color: var(--sklearn-color-background);\n",
       "}\n",
       "\n",
       "#sk-container-id-1 div.sk-container {\n",
       "  /* jupyter's `normalize.less` sets `[hidden] { display: none; }`\n",
       "     but bootstrap.min.css set `[hidden] { display: none !important; }`\n",
       "     so we also need the `!important` here to be able to override the\n",
       "     default hidden behavior on the sphinx rendered scikit-learn.org.\n",
       "     See: https://github.com/scikit-learn/scikit-learn/issues/21755 */\n",
       "  display: inline-block !important;\n",
       "  position: relative;\n",
       "}\n",
       "\n",
       "#sk-container-id-1 div.sk-text-repr-fallback {\n",
       "  display: none;\n",
       "}\n",
       "\n",
       "div.sk-parallel-item,\n",
       "div.sk-serial,\n",
       "div.sk-item {\n",
       "  /* draw centered vertical line to link estimators */\n",
       "  background-image: linear-gradient(var(--sklearn-color-text-on-default-background), var(--sklearn-color-text-on-default-background));\n",
       "  background-size: 2px 100%;\n",
       "  background-repeat: no-repeat;\n",
       "  background-position: center center;\n",
       "}\n",
       "\n",
       "/* Parallel-specific style estimator block */\n",
       "\n",
       "#sk-container-id-1 div.sk-parallel-item::after {\n",
       "  content: \"\";\n",
       "  width: 100%;\n",
       "  border-bottom: 2px solid var(--sklearn-color-text-on-default-background);\n",
       "  flex-grow: 1;\n",
       "}\n",
       "\n",
       "#sk-container-id-1 div.sk-parallel {\n",
       "  display: flex;\n",
       "  align-items: stretch;\n",
       "  justify-content: center;\n",
       "  background-color: var(--sklearn-color-background);\n",
       "  position: relative;\n",
       "}\n",
       "\n",
       "#sk-container-id-1 div.sk-parallel-item {\n",
       "  display: flex;\n",
       "  flex-direction: column;\n",
       "}\n",
       "\n",
       "#sk-container-id-1 div.sk-parallel-item:first-child::after {\n",
       "  align-self: flex-end;\n",
       "  width: 50%;\n",
       "}\n",
       "\n",
       "#sk-container-id-1 div.sk-parallel-item:last-child::after {\n",
       "  align-self: flex-start;\n",
       "  width: 50%;\n",
       "}\n",
       "\n",
       "#sk-container-id-1 div.sk-parallel-item:only-child::after {\n",
       "  width: 0;\n",
       "}\n",
       "\n",
       "/* Serial-specific style estimator block */\n",
       "\n",
       "#sk-container-id-1 div.sk-serial {\n",
       "  display: flex;\n",
       "  flex-direction: column;\n",
       "  align-items: center;\n",
       "  background-color: var(--sklearn-color-background);\n",
       "  padding-right: 1em;\n",
       "  padding-left: 1em;\n",
       "}\n",
       "\n",
       "\n",
       "/* Toggleable style: style used for estimator/Pipeline/ColumnTransformer box that is\n",
       "clickable and can be expanded/collapsed.\n",
       "- Pipeline and ColumnTransformer use this feature and define the default style\n",
       "- Estimators will overwrite some part of the style using the `sk-estimator` class\n",
       "*/\n",
       "\n",
       "/* Pipeline and ColumnTransformer style (default) */\n",
       "\n",
       "#sk-container-id-1 div.sk-toggleable {\n",
       "  /* Default theme specific background. It is overwritten whether we have a\n",
       "  specific estimator or a Pipeline/ColumnTransformer */\n",
       "  background-color: var(--sklearn-color-background);\n",
       "}\n",
       "\n",
       "/* Toggleable label */\n",
       "#sk-container-id-1 label.sk-toggleable__label {\n",
       "  cursor: pointer;\n",
       "  display: block;\n",
       "  width: 100%;\n",
       "  margin-bottom: 0;\n",
       "  padding: 0.5em;\n",
       "  box-sizing: border-box;\n",
       "  text-align: center;\n",
       "}\n",
       "\n",
       "#sk-container-id-1 label.sk-toggleable__label-arrow:before {\n",
       "  /* Arrow on the left of the label */\n",
       "  content: \"▸\";\n",
       "  float: left;\n",
       "  margin-right: 0.25em;\n",
       "  color: var(--sklearn-color-icon);\n",
       "}\n",
       "\n",
       "#sk-container-id-1 label.sk-toggleable__label-arrow:hover:before {\n",
       "  color: var(--sklearn-color-text);\n",
       "}\n",
       "\n",
       "/* Toggleable content - dropdown */\n",
       "\n",
       "#sk-container-id-1 div.sk-toggleable__content {\n",
       "  max-height: 0;\n",
       "  max-width: 0;\n",
       "  overflow: hidden;\n",
       "  text-align: left;\n",
       "  /* unfitted */\n",
       "  background-color: var(--sklearn-color-unfitted-level-0);\n",
       "}\n",
       "\n",
       "#sk-container-id-1 div.sk-toggleable__content.fitted {\n",
       "  /* fitted */\n",
       "  background-color: var(--sklearn-color-fitted-level-0);\n",
       "}\n",
       "\n",
       "#sk-container-id-1 div.sk-toggleable__content pre {\n",
       "  margin: 0.2em;\n",
       "  border-radius: 0.25em;\n",
       "  color: var(--sklearn-color-text);\n",
       "  /* unfitted */\n",
       "  background-color: var(--sklearn-color-unfitted-level-0);\n",
       "}\n",
       "\n",
       "#sk-container-id-1 div.sk-toggleable__content.fitted pre {\n",
       "  /* unfitted */\n",
       "  background-color: var(--sklearn-color-fitted-level-0);\n",
       "}\n",
       "\n",
       "#sk-container-id-1 input.sk-toggleable__control:checked~div.sk-toggleable__content {\n",
       "  /* Expand drop-down */\n",
       "  max-height: 200px;\n",
       "  max-width: 100%;\n",
       "  overflow: auto;\n",
       "}\n",
       "\n",
       "#sk-container-id-1 input.sk-toggleable__control:checked~label.sk-toggleable__label-arrow:before {\n",
       "  content: \"▾\";\n",
       "}\n",
       "\n",
       "/* Pipeline/ColumnTransformer-specific style */\n",
       "\n",
       "#sk-container-id-1 div.sk-label input.sk-toggleable__control:checked~label.sk-toggleable__label {\n",
       "  color: var(--sklearn-color-text);\n",
       "  background-color: var(--sklearn-color-unfitted-level-2);\n",
       "}\n",
       "\n",
       "#sk-container-id-1 div.sk-label.fitted input.sk-toggleable__control:checked~label.sk-toggleable__label {\n",
       "  background-color: var(--sklearn-color-fitted-level-2);\n",
       "}\n",
       "\n",
       "/* Estimator-specific style */\n",
       "\n",
       "/* Colorize estimator box */\n",
       "#sk-container-id-1 div.sk-estimator input.sk-toggleable__control:checked~label.sk-toggleable__label {\n",
       "  /* unfitted */\n",
       "  background-color: var(--sklearn-color-unfitted-level-2);\n",
       "}\n",
       "\n",
       "#sk-container-id-1 div.sk-estimator.fitted input.sk-toggleable__control:checked~label.sk-toggleable__label {\n",
       "  /* fitted */\n",
       "  background-color: var(--sklearn-color-fitted-level-2);\n",
       "}\n",
       "\n",
       "#sk-container-id-1 div.sk-label label.sk-toggleable__label,\n",
       "#sk-container-id-1 div.sk-label label {\n",
       "  /* The background is the default theme color */\n",
       "  color: var(--sklearn-color-text-on-default-background);\n",
       "}\n",
       "\n",
       "/* On hover, darken the color of the background */\n",
       "#sk-container-id-1 div.sk-label:hover label.sk-toggleable__label {\n",
       "  color: var(--sklearn-color-text);\n",
       "  background-color: var(--sklearn-color-unfitted-level-2);\n",
       "}\n",
       "\n",
       "/* Label box, darken color on hover, fitted */\n",
       "#sk-container-id-1 div.sk-label.fitted:hover label.sk-toggleable__label.fitted {\n",
       "  color: var(--sklearn-color-text);\n",
       "  background-color: var(--sklearn-color-fitted-level-2);\n",
       "}\n",
       "\n",
       "/* Estimator label */\n",
       "\n",
       "#sk-container-id-1 div.sk-label label {\n",
       "  font-family: monospace;\n",
       "  font-weight: bold;\n",
       "  display: inline-block;\n",
       "  line-height: 1.2em;\n",
       "}\n",
       "\n",
       "#sk-container-id-1 div.sk-label-container {\n",
       "  text-align: center;\n",
       "}\n",
       "\n",
       "/* Estimator-specific */\n",
       "#sk-container-id-1 div.sk-estimator {\n",
       "  font-family: monospace;\n",
       "  border: 1px dotted var(--sklearn-color-border-box);\n",
       "  border-radius: 0.25em;\n",
       "  box-sizing: border-box;\n",
       "  margin-bottom: 0.5em;\n",
       "  /* unfitted */\n",
       "  background-color: var(--sklearn-color-unfitted-level-0);\n",
       "}\n",
       "\n",
       "#sk-container-id-1 div.sk-estimator.fitted {\n",
       "  /* fitted */\n",
       "  background-color: var(--sklearn-color-fitted-level-0);\n",
       "}\n",
       "\n",
       "/* on hover */\n",
       "#sk-container-id-1 div.sk-estimator:hover {\n",
       "  /* unfitted */\n",
       "  background-color: var(--sklearn-color-unfitted-level-2);\n",
       "}\n",
       "\n",
       "#sk-container-id-1 div.sk-estimator.fitted:hover {\n",
       "  /* fitted */\n",
       "  background-color: var(--sklearn-color-fitted-level-2);\n",
       "}\n",
       "\n",
       "/* Specification for estimator info (e.g. \"i\" and \"?\") */\n",
       "\n",
       "/* Common style for \"i\" and \"?\" */\n",
       "\n",
       ".sk-estimator-doc-link,\n",
       "a:link.sk-estimator-doc-link,\n",
       "a:visited.sk-estimator-doc-link {\n",
       "  float: right;\n",
       "  font-size: smaller;\n",
       "  line-height: 1em;\n",
       "  font-family: monospace;\n",
       "  background-color: var(--sklearn-color-background);\n",
       "  border-radius: 1em;\n",
       "  height: 1em;\n",
       "  width: 1em;\n",
       "  text-decoration: none !important;\n",
       "  margin-left: 1ex;\n",
       "  /* unfitted */\n",
       "  border: var(--sklearn-color-unfitted-level-1) 1pt solid;\n",
       "  color: var(--sklearn-color-unfitted-level-1);\n",
       "}\n",
       "\n",
       ".sk-estimator-doc-link.fitted,\n",
       "a:link.sk-estimator-doc-link.fitted,\n",
       "a:visited.sk-estimator-doc-link.fitted {\n",
       "  /* fitted */\n",
       "  border: var(--sklearn-color-fitted-level-1) 1pt solid;\n",
       "  color: var(--sklearn-color-fitted-level-1);\n",
       "}\n",
       "\n",
       "/* On hover */\n",
       "div.sk-estimator:hover .sk-estimator-doc-link:hover,\n",
       ".sk-estimator-doc-link:hover,\n",
       "div.sk-label-container:hover .sk-estimator-doc-link:hover,\n",
       ".sk-estimator-doc-link:hover {\n",
       "  /* unfitted */\n",
       "  background-color: var(--sklearn-color-unfitted-level-3);\n",
       "  color: var(--sklearn-color-background);\n",
       "  text-decoration: none;\n",
       "}\n",
       "\n",
       "div.sk-estimator.fitted:hover .sk-estimator-doc-link.fitted:hover,\n",
       ".sk-estimator-doc-link.fitted:hover,\n",
       "div.sk-label-container:hover .sk-estimator-doc-link.fitted:hover,\n",
       ".sk-estimator-doc-link.fitted:hover {\n",
       "  /* fitted */\n",
       "  background-color: var(--sklearn-color-fitted-level-3);\n",
       "  color: var(--sklearn-color-background);\n",
       "  text-decoration: none;\n",
       "}\n",
       "\n",
       "/* Span, style for the box shown on hovering the info icon */\n",
       ".sk-estimator-doc-link span {\n",
       "  display: none;\n",
       "  z-index: 9999;\n",
       "  position: relative;\n",
       "  font-weight: normal;\n",
       "  right: .2ex;\n",
       "  padding: .5ex;\n",
       "  margin: .5ex;\n",
       "  width: min-content;\n",
       "  min-width: 20ex;\n",
       "  max-width: 50ex;\n",
       "  color: var(--sklearn-color-text);\n",
       "  box-shadow: 2pt 2pt 4pt #999;\n",
       "  /* unfitted */\n",
       "  background: var(--sklearn-color-unfitted-level-0);\n",
       "  border: .5pt solid var(--sklearn-color-unfitted-level-3);\n",
       "}\n",
       "\n",
       ".sk-estimator-doc-link.fitted span {\n",
       "  /* fitted */\n",
       "  background: var(--sklearn-color-fitted-level-0);\n",
       "  border: var(--sklearn-color-fitted-level-3);\n",
       "}\n",
       "\n",
       ".sk-estimator-doc-link:hover span {\n",
       "  display: block;\n",
       "}\n",
       "\n",
       "/* \"?\"-specific style due to the `<a>` HTML tag */\n",
       "\n",
       "#sk-container-id-1 a.estimator_doc_link {\n",
       "  float: right;\n",
       "  font-size: 1rem;\n",
       "  line-height: 1em;\n",
       "  font-family: monospace;\n",
       "  background-color: var(--sklearn-color-background);\n",
       "  border-radius: 1rem;\n",
       "  height: 1rem;\n",
       "  width: 1rem;\n",
       "  text-decoration: none;\n",
       "  /* unfitted */\n",
       "  color: var(--sklearn-color-unfitted-level-1);\n",
       "  border: var(--sklearn-color-unfitted-level-1) 1pt solid;\n",
       "}\n",
       "\n",
       "#sk-container-id-1 a.estimator_doc_link.fitted {\n",
       "  /* fitted */\n",
       "  border: var(--sklearn-color-fitted-level-1) 1pt solid;\n",
       "  color: var(--sklearn-color-fitted-level-1);\n",
       "}\n",
       "\n",
       "/* On hover */\n",
       "#sk-container-id-1 a.estimator_doc_link:hover {\n",
       "  /* unfitted */\n",
       "  background-color: var(--sklearn-color-unfitted-level-3);\n",
       "  color: var(--sklearn-color-background);\n",
       "  text-decoration: none;\n",
       "}\n",
       "\n",
       "#sk-container-id-1 a.estimator_doc_link.fitted:hover {\n",
       "  /* fitted */\n",
       "  background-color: var(--sklearn-color-fitted-level-3);\n",
       "}\n",
       "</style><div id=\"sk-container-id-1\" class=\"sk-top-container\"><div class=\"sk-text-repr-fallback\"><pre>PCA()</pre><b>In a Jupyter environment, please rerun this cell to show the HTML representation or trust the notebook. <br />On GitHub, the HTML representation is unable to render, please try loading this page with nbviewer.org.</b></div><div class=\"sk-container\" hidden><div class=\"sk-item\"><div class=\"sk-estimator fitted sk-toggleable\"><input class=\"sk-toggleable__control sk-hidden--visually\" id=\"sk-estimator-id-1\" type=\"checkbox\" checked><label for=\"sk-estimator-id-1\" class=\"sk-toggleable__label fitted sk-toggleable__label-arrow fitted\">&nbsp;&nbsp;PCA<a class=\"sk-estimator-doc-link fitted\" rel=\"noreferrer\" target=\"_blank\" href=\"https://scikit-learn.org/1.4/modules/generated/sklearn.decomposition.PCA.html\">?<span>Documentation for PCA</span></a><span class=\"sk-estimator-doc-link fitted\">i<span>Fitted</span></span></label><div class=\"sk-toggleable__content fitted\"><pre>PCA()</pre></div> </div></div></div></div>"
      ],
      "text/plain": [
       "PCA()"
      ]
     },
     "execution_count": 13,
     "metadata": {},
     "output_type": "execute_result"
    }
   ],
   "source": [
    "# 2.\n",
    "pca = PCA()\n",
    "pca.fit(dfx_standardized)\n",
    "\n",
    "# pca = PCA()\n",
    "# reduced_data_pca = pca.fit_transform(dfx_standardized)"
   ]
  },
  {
   "cell_type": "code",
   "execution_count": 14,
   "id": "cb25895a-627b-4c13-8da8-aa79551d7404",
   "metadata": {
    "tags": []
   },
   "outputs": [
    {
     "data": {
      "image/png": "[encoded data removed]",
      "text/plain": [
       "<Figure size 1000x600 with 1 Axes>"
      ]
     },
     "metadata": {},
     "output_type": "display_data"
    }
   ],
   "source": [
    "# 3. Plot cumulative explained variance to see the number of PCs that explain a desired level (95% in the case) of variance\n",
    "cumulative_variance = np.cumsum(pca.explained_variance_ratio_)\n",
    "\n",
    "plt.figure(figsize=(10, 6))\n",
    "plt.plot(np.arange(1, len(cumulative_variance) + 1), cumulative_variance, marker='o')\n",
    "plt.xlabel('Number of Principal Components')\n",
    "plt.ylabel('Cumulative explained variance')\n",
    "plt.title('Cumulative explained variance by number of Principal Components')\n",
    "plt.grid(True)\n",
    "plt.axhline(y=0.95, color='r', linestyle='--', label='95% Variance Explained')\n",
    "plt.legend(loc='best')\n",
    "plt.show();"
   ]
  },
  {
   "cell_type": "markdown",
   "id": "6941b0b3-8b46-4c52-b75f-d9747142d458",
   "metadata": {},
   "source": [
    "The plot shows that about 40% of variance is exlained with aboutt 10 PCs, 45-47 PCs explain 95% of variance. So we can aim at that number of PCs.\n",
    "\n",
    "Now we'll see what variance is explaind with each component with scree plot"
   ]
  },
  {
   "cell_type": "code",
   "execution_count": 15,
   "id": "62a4ab0c-2c4d-4ab6-ba0f-e2709930c8ed",
   "metadata": {
    "tags": []
   },
   "outputs": [],
   "source": [
    "# the num of picked PCs\n",
    "pcs = 43"
   ]
  },
  {
   "cell_type": "code",
   "execution_count": 16,
   "id": "e7a01a20-2f3d-4139-aa5d-6059b51169db",
   "metadata": {
    "tags": []
   },
   "outputs": [],
   "source": [
    "# 4. compute loadings\n",
    "loadings = pca.components_[:pcs]\n",
    "\n",
    "# 5. Compute the importance scores for each var\n",
    "importance_scores = np.sum(np.abs(loadings), axis=0)\n",
    "\n",
    "# 6. Create a df for feature importance\n",
    "feature_importance_df = pd.DataFrame({\n",
    "    'Feature': dfx.columns,\n",
    "    'Importance': importance_scores\n",
    "})\n",
    "\n",
    "# Sort featres by importance\n",
    "feature_importance_df = feature_importance_df.sort_values(by='Importance', ascending=False)\n",
    "\n",
    "# Select the top features\n",
    "selected_features = feature_importance_df['Feature']"
   ]
  },
  {
   "cell_type": "code",
   "execution_count": null,
   "id": "ea7a48fe-86fe-4cfa-bdea-bf33ee2f33fe",
   "metadata": {},
   "outputs": [],
   "source": []
  },
  {
   "cell_type": "markdown",
   "id": "8ea305a8-dbd9-46e0-b38e-729077078769",
   "metadata": {},
   "source": [
    "Selecting what features to pick"
   ]
  },
  {
   "cell_type": "code",
   "execution_count": 17,
   "id": "4815dfca-8c21-4f76-aa96-87e83ce567e9",
   "metadata": {
    "tags": []
   },
   "outputs": [
    {
     "data": {
      "text/plain": [
       "(134198, 52)"
      ]
     },
     "execution_count": 17,
     "metadata": {},
     "output_type": "execute_result"
    },
    {
     "name": "stdout",
     "output_type": "stream",
     "text": [
      "<class 'pandas.core.frame.DataFrame'>\n",
      "RangeIndex: 134198 entries, 0 to 134197\n",
      "Data columns (total 52 columns):\n",
      " #   Column                  Non-Null Count   Dtype  \n",
      "---  ------                  --------------   -----  \n",
      " 0   BinaryNumTarget         134198 non-null  int8   \n",
      " 1   BotScoreBinary          134198 non-null  int8   \n",
      " 2   adjectives              134198 non-null  int16  \n",
      " 3   CARDINAL_percentage     134198 non-null  float32\n",
      " 4   exclamation             134198 non-null  int16  \n",
      " 5   ORDINAL_percentage      134198 non-null  float32\n",
      " 6   MONEY_percentage        134198 non-null  float32\n",
      " 7   LAW_percentage          134198 non-null  float32\n",
      " 8   NORP_percentage         134198 non-null  float32\n",
      " 9   PERSON_percentage       134198 non-null  float32\n",
      " 10  DATE_percentage         134198 non-null  float32\n",
      " 11  questions               134198 non-null  int16  \n",
      " 12  ORG_percentage          134198 non-null  float32\n",
      " 13  friends_count           134198 non-null  int32  \n",
      " 14  WORK_OF_ART_percentage  134198 non-null  float32\n",
      " 15  past_verbs              134198 non-null  int16  \n",
      " 16  PRODUCT_percentage      134198 non-null  float32\n",
      " 17  QUANTITY_percentage     134198 non-null  float32\n",
      " 18  GPE_percentage          134198 non-null  float32\n",
      " 19  LANGUAGE_percentage     134198 non-null  float32\n",
      " 20  total_engagement_pca    134198 non-null  float64\n",
      " 21  TOs                     134198 non-null  int16  \n",
      " 22  URLs                    134198 non-null  int16  \n",
      " 23  LOC_percentage          134198 non-null  float32\n",
      " 24  TIME_percentage         134198 non-null  float32\n",
      " 25  EVENT_percentage        134198 non-null  float32\n",
      " 26  unique_count            134198 non-null  int16  \n",
      " 27  PERCENT_percentage      134198 non-null  float32\n",
      " 28  favourites_count        134198 non-null  int32  \n",
      " 29  determiners             134198 non-null  int16  \n",
      " 30  Min word length         134198 non-null  int16  \n",
      " 31  adverbs                 134198 non-null  int16  \n",
      " 32  FAC_percentage          134198 non-null  float32\n",
      " 33  mentions                134198 non-null  int16  \n",
      " 34  pronouns                134198 non-null  int16  \n",
      " 35  Max word length         134198 non-null  int16  \n",
      " 36  statuses_count          134198 non-null  int32  \n",
      " 37  capitals                134198 non-null  int16  \n",
      " 38  ratio_short_to_long     134198 non-null  float64\n",
      " 39  conjunctions            134198 non-null  int16  \n",
      " 40  adpositions             134198 non-null  int16  \n",
      " 41  dots                    134198 non-null  int16  \n",
      " 42  total_count             134198 non-null  int16  \n",
      " 43  cred                    134198 non-null  float32\n",
      " 44  present_verbs           134198 non-null  int16  \n",
      " 45  digits                  134198 non-null  int16  \n",
      " 46  ampersand               134198 non-null  int16  \n",
      " 47  Average word length     134198 non-null  float32\n",
      " 48  hashtags                134198 non-null  int16  \n",
      " 49  normalize_influence     134198 non-null  float32\n",
      " 50  activity_pca            134198 non-null  float64\n",
      " 51  Word count              134198 non-null  int16  \n",
      "dtypes: float32(21), float64(3), int16(23), int32(3), int8(2)\n",
      "memory usage: 21.5 MB\n"
     ]
    }
   ],
   "source": [
    "# Create a new df with the selected vars\n",
    "df_selected = dfx[selected_features]\n",
    "df_selected.shape\n",
    "df_selected.info()"
   ]
  },
  {
   "cell_type": "markdown",
   "id": "d2583c91-52ce-4199-a3f2-398898625157",
   "metadata": {},
   "source": [
    "From this table we see that the total_engagement_pca is ranked as more important than our total_engagement"
   ]
  },
  {
   "cell_type": "code",
   "execution_count": 18,
   "id": "cc229331-4c8c-4d01-8e9c-f8a3fa9ec2d4",
   "metadata": {
    "tags": []
   },
   "outputs": [
    {
     "data": {
      "text/plain": [
       "(134198, 52)"
      ]
     },
     "execution_count": 18,
     "metadata": {},
     "output_type": "execute_result"
    }
   ],
   "source": [
    "# Here we drop doubling features\n",
    "\n",
    "# df_reduced = df_selected.drop(columns=['short_word_freq', 'long_word_freq', 'replies', 'retweets', 'quotes', 'favourites', 'total_engagement', 'BotScore', 'listed_count', 'followers_count', 'listed_count'])\n",
    "# df_reduced = df_selected.drop(columns=['short_word_freq', 'long_word_freq', 'replies', 'retweets', 'quotes', 'favourites', 'total_engagement', 'BotScore', 'listed_count', 'followers_count', 'listed_count', 'ampersand', 'hashtags', 'normalize_influence', 'BotScore', 'Average word length', 'BotScoreBinary', 'total_count', 'Word count'])\n",
    "df_reduced = df_selected.copy()\n",
    "df_reduced.shape"
   ]
  },
  {
   "cell_type": "code",
   "execution_count": null,
   "id": "174ca8c5-e9c2-401f-a920-da8cde633ea5",
   "metadata": {},
   "outputs": [],
   "source": []
  },
  {
   "cell_type": "markdown",
   "id": "19d725c7-ff5f-44a2-9cf7-a03e843e889e",
   "metadata": {},
   "source": [
    "# Split and Scale"
   ]
  },
  {
   "cell_type": "markdown",
   "id": "c9c8c383-6840-4269-a6d7-c050bafa5be7",
   "metadata": {},
   "source": [
    "## Splitting"
   ]
  },
  {
   "cell_type": "code",
   "execution_count": 19,
   "id": "829a1093-de3a-40f7-ae2b-c54a7865ca08",
   "metadata": {
    "tags": []
   },
   "outputs": [],
   "source": [
    "from sklearn.model_selection import train_test_split"
   ]
  },
  {
   "cell_type": "code",
   "execution_count": 20,
   "id": "3129bae7-3c68-4bf8-a6a4-71dca02fe421",
   "metadata": {
    "tags": []
   },
   "outputs": [],
   "source": [
    "X = df_reduced.drop(columns=['BinaryNumTarget'], axis=1)\n",
    "y = df_reduced['BinaryNumTarget']\n",
    "\n",
    "X_train, X_test, y_train, y_test = train_test_split(X, y, test_size=0.2, random_state=17)"
   ]
  },
  {
   "cell_type": "markdown",
   "id": "aff74d55-f416-498d-818e-4565619e2a76",
   "metadata": {},
   "source": [
    "## Scaling"
   ]
  },
  {
   "cell_type": "code",
   "execution_count": 21,
   "id": "257d2813-1f66-49ea-a434-ee00ddf0a031",
   "metadata": {
    "tags": []
   },
   "outputs": [],
   "source": [
    "# from sklearn.preprocessing import RobustScaler\n",
    "\n",
    "# scaler = RobustScaler(unit_variance=True)\n",
    "\n",
    "# X_train = scaler.fit_transform(X_train)\n",
    "# X_test = scaler.transform(X_test)"
   ]
  },
  {
   "cell_type": "code",
   "execution_count": 22,
   "id": "9d74c96f-6621-4531-a79d-c83743726703",
   "metadata": {
    "tags": []
   },
   "outputs": [],
   "source": [
    "scaler = StandardScaler()\n",
    "\n",
    "X_train = scaler.fit_transform(X_train)\n",
    "X_test = scaler.transform(X_test)"
   ]
  },
  {
   "cell_type": "markdown",
   "id": "ac792791-fe7a-4315-84a8-a1eb6febd415",
   "metadata": {},
   "source": [
    "# Model evaluation function"
   ]
  },
  {
   "cell_type": "code",
   "execution_count": 23,
   "id": "3df1f43a-45f6-4772-8955-c878a7aab1e6",
   "metadata": {
    "tags": []
   },
   "outputs": [],
   "source": [
    "# Function for model evaluation\n",
    "\n",
    "from sklearn.metrics import accuracy_score, classification_report\n",
    "def get_scores(model):\n",
    "\n",
    "    if hasattr(model, 'predict_proba'):\n",
    "        y_train_pred = model.predict(X_train)\n",
    "        y_test_pred = model.predict(X_test)\n",
    "    else: # that's for DNN and like that\n",
    "        y_train_pred = (model.predict(X_train) > 0.5).astype(\"int32\")\n",
    "        y_test_pred = (model.predict(X_test) > 0.5).astype(\"int32\")\n",
    "\n",
    "    train_accuracy = round(accuracy_score(y_train, y_train_pred),4)\n",
    "    test_accuracy = round(accuracy_score(y_test, y_test_pred),4)\n",
    "\n",
    "    print(f'Train accuracy = {train_accuracy}')\n",
    "    print(f'Test accuracy = {test_accuracy}')\n",
    "    print(classification_report(y_test, y_test_pred))\n",
    "\n",
    "    tabula['Model'].append(type(model).__name__)\n",
    "    tabula['Train accuracy'].append(train_accuracy)\n",
    "    tabula['Test accuracy'].append(test_accuracy)\n",
    "\n",
    "    return train_accuracy, test_accuracy\n",
    "\n",
    "tabula = {\n",
    "    'Model': [],\n",
    "    'Train accuracy': [],\n",
    "    'Test accuracy': []\n",
    "}"
   ]
  },
  {
   "cell_type": "markdown",
   "id": "513f11b7-3229-47d1-9b05-59ea9c419214",
   "metadata": {},
   "source": [
    "# Modelling"
   ]
  },
  {
   "cell_type": "markdown",
   "id": "09c6483b-8a99-42e0-aec1-5eceb4df3d6a",
   "metadata": {},
   "source": [
    "## Logistic regression"
   ]
  },
  {
   "cell_type": "code",
   "execution_count": 24,
   "id": "361694f3-bc2a-4264-93db-e007ca6f356e",
   "metadata": {
    "tags": []
   },
   "outputs": [],
   "source": [
    "from sklearn.linear_model import LogisticRegression"
   ]
  },
  {
   "cell_type": "code",
   "execution_count": 25,
   "id": "8794f02f-6f7d-4e3c-a428-d2f0ce40e72c",
   "metadata": {
    "tags": []
   },
   "outputs": [
    {
     "name": "stdout",
     "output_type": "stream",
     "text": [
      "Train accuracy = 0.6552\n",
      "Test accuracy = 0.6491\n",
      "              precision    recall  f1-score   support\n",
      "\n",
      "           0       0.63      0.65      0.64     13023\n",
      "           1       0.66      0.65      0.65     13817\n",
      "\n",
      "    accuracy                           0.65     26840\n",
      "   macro avg       0.65      0.65      0.65     26840\n",
      "weighted avg       0.65      0.65      0.65     26840\n",
      "\n"
     ]
    },
    {
     "data": {
      "text/plain": [
       "(0.6552, 0.6491)"
      ]
     },
     "execution_count": 25,
     "metadata": {},
     "output_type": "execute_result"
    }
   ],
   "source": [
    "logreg_model = LogisticRegression(penalty='l2', C=0.1, tol=0.0001, max_iter=100).fit(X_train, y_train)\n",
    "\n",
    "get_scores(logreg_model)"
   ]
  },
  {
   "cell_type": "markdown",
   "id": "2d4d70b0-0829-49be-ab9f-58b444023e7a",
   "metadata": {},
   "source": [
    "Before we dropped some variables our accuracy score was same -- 0.65 Train and Test. Now after dropping it is the same, so we can say that the feature engineering was good. Difference between datasets with total_engagement and dataset with total_engagement_pca instead is around 3rd digit after point. So, neglectable.\n",
    "\n",
    "If we remove a larger number of features going from bottom to top and leaving only 45, the accuracy drops by just 0.01 point, which is also acceptable. But it does not make a significant change, so we'll stick to the initial number of features."
   ]
  },
  {
   "cell_type": "markdown",
   "id": "3cc75657-d22a-4170-a2f7-e92cef8b7955",
   "metadata": {},
   "source": [
    "## SVM"
   ]
  },
  {
   "cell_type": "code",
   "execution_count": 26,
   "id": "73b8864a-8a9e-43d8-b55c-14c78c60c122",
   "metadata": {
    "tags": []
   },
   "outputs": [],
   "source": [
    "from sklearn.svm import SVC"
   ]
  },
  {
   "cell_type": "code",
   "execution_count": 27,
   "id": "65b01404-73a7-44ed-9d4f-c349dcb34182",
   "metadata": {
    "tags": []
   },
   "outputs": [
    {
     "name": "stdout",
     "output_type": "stream",
     "text": [
      "Train accuracy = 0.798\n",
      "Test accuracy = 0.7179\n",
      "              precision    recall  f1-score   support\n",
      "\n",
      "           0       0.70      0.75      0.72     13023\n",
      "           1       0.74      0.69      0.72     13817\n",
      "\n",
      "    accuracy                           0.72     26840\n",
      "   macro avg       0.72      0.72      0.72     26840\n",
      "weighted avg       0.72      0.72      0.72     26840\n",
      "\n"
     ]
    },
    {
     "data": {
      "text/plain": [
       "(0.798, 0.7179)"
      ]
     },
     "execution_count": 27,
     "metadata": {},
     "output_type": "execute_result"
    }
   ],
   "source": [
    "svm_rbf = SVC(kernel='rbf', C=3, gamma='auto', random_state=17).fit(X_train, y_train)\n",
    "\n",
    "get_scores(svm_rbf)"
   ]
  },
  {
   "cell_type": "code",
   "execution_count": 28,
   "id": "5e0965c2-bbce-48e6-b06d-f41357a12c4f",
   "metadata": {
    "tags": []
   },
   "outputs": [
    {
     "name": "stdout",
     "output_type": "stream",
     "text": [
      "Train accuracy = 0.77\n",
      "Test accuracy = 0.6974\n",
      "              precision    recall  f1-score   support\n",
      "\n",
      "           0       0.68      0.72      0.70     13023\n",
      "           1       0.72      0.68      0.70     13817\n",
      "\n",
      "    accuracy                           0.70     26840\n",
      "   macro avg       0.70      0.70      0.70     26840\n",
      "weighted avg       0.70      0.70      0.70     26840\n",
      "\n"
     ]
    },
    {
     "data": {
      "text/plain": [
       "(0.77, 0.6974)"
      ]
     },
     "execution_count": 28,
     "metadata": {},
     "output_type": "execute_result"
    }
   ],
   "source": [
    "svm_poly = SVC(kernel='poly', C=3, gamma='auto', random_state=17).fit(X_train, y_train)\n",
    "\n",
    "get_scores(svm_poly)"
   ]
  },
  {
   "cell_type": "markdown",
   "id": "ac0601f2-2c72-4d40-bad3-2a5294bfc60c",
   "metadata": {},
   "source": [
    "## Random Forest"
   ]
  },
  {
   "cell_type": "code",
   "execution_count": 29,
   "id": "c45dc5ae-33cd-4ad2-adf1-fd2db703e4f8",
   "metadata": {
    "tags": []
   },
   "outputs": [],
   "source": [
    "from sklearn.ensemble import RandomForestClassifier"
   ]
  },
  {
   "cell_type": "code",
   "execution_count": 30,
   "id": "5eb59d8b-c8ac-45db-be50-560b9a82eeb7",
   "metadata": {
    "tags": []
   },
   "outputs": [
    {
     "name": "stdout",
     "output_type": "stream",
     "text": [
      "Train accuracy = 0.748\n",
      "Test accuracy = 0.6801\n",
      "              precision    recall  f1-score   support\n",
      "\n",
      "           0       0.66      0.71      0.68     13023\n",
      "           1       0.70      0.66      0.68     13817\n",
      "\n",
      "    accuracy                           0.68     26840\n",
      "   macro avg       0.68      0.68      0.68     26840\n",
      "weighted avg       0.68      0.68      0.68     26840\n",
      "\n"
     ]
    },
    {
     "data": {
      "text/plain": [
       "(0.748, 0.6801)"
      ]
     },
     "execution_count": 30,
     "metadata": {},
     "output_type": "execute_result"
    }
   ],
   "source": [
    "# bootstrap= True, max_depth=None, min_samples_leaf=1, min_samples_split=2, n_estimators = 500\n",
    "rfc = RandomForestClassifier(max_depth=12, n_estimators = 30, min_samples_leaf=1, min_samples_split=12).fit(X_train, y_train)\n",
    "\n",
    "get_scores(rfc)"
   ]
  },
  {
   "cell_type": "markdown",
   "id": "baeb5ee5-a9a2-4093-b338-eb43cafd8f0f",
   "metadata": {},
   "source": [
    "## Gradient Descent Boost"
   ]
  },
  {
   "cell_type": "code",
   "execution_count": 31,
   "id": "39255806-1181-4074-a526-01b3a3b00ae6",
   "metadata": {
    "tags": []
   },
   "outputs": [],
   "source": [
    "from xgboost import XGBClassifier"
   ]
  },
  {
   "cell_type": "code",
   "execution_count": 32,
   "id": "7d562a5d-f3e4-4fa4-8deb-6a3ce01bd898",
   "metadata": {
    "tags": []
   },
   "outputs": [
    {
     "name": "stdout",
     "output_type": "stream",
     "text": [
      "Train accuracy = 0.836\n",
      "Test accuracy = 0.7336\n",
      "              precision    recall  f1-score   support\n",
      "\n",
      "           0       0.72      0.75      0.73     13023\n",
      "           1       0.75      0.72      0.74     13817\n",
      "\n",
      "    accuracy                           0.73     26840\n",
      "   macro avg       0.73      0.73      0.73     26840\n",
      "weighted avg       0.73      0.73      0.73     26840\n",
      "\n"
     ]
    },
    {
     "data": {
      "text/plain": [
       "(0.836, 0.7336)"
      ]
     },
     "execution_count": 32,
     "metadata": {},
     "output_type": "execute_result"
    }
   ],
   "source": [
    "boosted_tree_model = XGBClassifier(max_depth=7, max_leaves=40, n_estimators=900, learning_rate=0.1).fit(X_train, y_train)\n",
    "\n",
    "get_scores(boosted_tree_model)"
   ]
  },
  {
   "cell_type": "markdown",
   "id": "3e0cef8b-901a-4fe6-abd3-6fb81574bba8",
   "metadata": {},
   "source": [
    "## DNN"
   ]
  },
  {
   "cell_type": "code",
   "execution_count": 33,
   "id": "8d2dadbb-3f09-4d0c-806c-033faab19cfc",
   "metadata": {
    "tags": []
   },
   "outputs": [],
   "source": [
    "import tensorflow as tf\n",
    "from tensorflow.keras import models, layers, optimizers, callbacks"
   ]
  },
  {
   "cell_type": "code",
   "execution_count": 34,
   "id": "3619b81a-62da-409c-a11b-f42b2e0cf5f1",
   "metadata": {
    "tags": []
   },
   "outputs": [],
   "source": [
    "dnn_model = models.Sequential()\n",
    "\n",
    "dnn_model = models.Sequential()\n",
    "dnn_model.add(layers.Dense(50, activation='relu', input_shape=(X_train.shape[1],)))\n",
    "dnn_model.add(layers.Dense(220, activation='relu'))\n",
    "dnn_model.add(layers.Dense(200, activation='selu'))\n",
    "dnn_model.add(layers.Dense(200, activation='selu'))\n",
    "dnn_model.add(layers.Dense(200, activation='selu'))\n",
    "dnn_model.add(layers.Dense(100, activation='selu'))\n",
    "dnn_model.add(layers.Dense(80, activation='selu'))\n",
    "dnn_model.add(layers.Dense(units=1, activation='sigmoid'))\n",
    "\n",
    "dnn_model.compile(optimizer=optimizers.legacy.Adam(), loss='binary_crossentropy', metrics=['accuracy'])\n",
    "\n",
    "early_stopping = tf.keras.callbacks.EarlyStopping(monitor='val_loss', patience=10, restore_best_weights=True)"
   ]
  },
  {
   "cell_type": "code",
   "execution_count": 35,
   "id": "0a8871f3-d0f4-4e40-a294-58e4d928fac8",
   "metadata": {
    "scrolled": true,
    "tags": []
   },
   "outputs": [
    {
     "name": "stdout",
     "output_type": "stream",
     "text": [
      "Epoch 1/550\n"
     ]
    },
    {
     "name": "stderr",
     "output_type": "stream",
     "text": [
      "2024-06-27 12:46:56.180364: W tensorflow/tsl/platform/profile_utils/cpu_utils.cc:128] Failed to get CPU frequency: 0 Hz\n"
     ]
    },
    {
     "name": "stdout",
     "output_type": "stream",
     "text": [
      "3355/3355 [==============================] - 5s 1ms/step - loss: 0.6166 - accuracy: 0.6588 - val_loss: 0.5849 - val_accuracy: 0.6845\n",
      "Epoch 2/550\n",
      "3355/3355 [==============================] - 4s 1ms/step - loss: 0.5808 - accuracy: 0.6932 - val_loss: 0.5833 - val_accuracy: 0.6870\n",
      "Epoch 3/550\n",
      "3355/3355 [==============================] - 4s 1ms/step - loss: 0.5673 - accuracy: 0.7040 - val_loss: 0.5718 - val_accuracy: 0.6936\n",
      "Epoch 4/550\n",
      "3355/3355 [==============================] - 4s 1ms/step - loss: 0.5579 - accuracy: 0.7102 - val_loss: 0.5685 - val_accuracy: 0.6980\n",
      "Epoch 5/550\n",
      "3355/3355 [==============================] - 4s 1ms/step - loss: 0.5501 - accuracy: 0.7152 - val_loss: 0.5672 - val_accuracy: 0.7032\n",
      "Epoch 6/550\n",
      "3355/3355 [==============================] - 4s 1ms/step - loss: 0.5424 - accuracy: 0.7199 - val_loss: 0.5676 - val_accuracy: 0.7007\n",
      "Epoch 7/550\n",
      "3355/3355 [==============================] - 4s 1ms/step - loss: 0.5354 - accuracy: 0.7263 - val_loss: 0.5589 - val_accuracy: 0.7058\n",
      "Epoch 8/550\n",
      "3355/3355 [==============================] - 4s 1ms/step - loss: 0.5306 - accuracy: 0.7271 - val_loss: 0.5623 - val_accuracy: 0.7029\n",
      "Epoch 9/550\n",
      "3355/3355 [==============================] - 4s 1ms/step - loss: 0.5244 - accuracy: 0.7335 - val_loss: 0.5627 - val_accuracy: 0.7063\n",
      "Epoch 10/550\n",
      "3355/3355 [==============================] - 4s 1ms/step - loss: 0.5194 - accuracy: 0.7358 - val_loss: 0.5662 - val_accuracy: 0.7023\n",
      "Epoch 11/550\n",
      "3355/3355 [==============================] - 4s 1ms/step - loss: 0.5159 - accuracy: 0.7385 - val_loss: 0.5601 - val_accuracy: 0.7016\n",
      "Epoch 12/550\n",
      "3355/3355 [==============================] - 4s 1ms/step - loss: 0.5094 - accuracy: 0.7421 - val_loss: 0.5748 - val_accuracy: 0.7031\n",
      "Epoch 13/550\n",
      "3355/3355 [==============================] - 4s 1ms/step - loss: 0.5086 - accuracy: 0.7434 - val_loss: 0.5664 - val_accuracy: 0.7044\n",
      "Epoch 14/550\n",
      "3355/3355 [==============================] - 4s 1ms/step - loss: 0.5034 - accuracy: 0.7456 - val_loss: 0.5668 - val_accuracy: 0.7040\n",
      "Epoch 15/550\n",
      "3355/3355 [==============================] - 4s 1ms/step - loss: 0.4986 - accuracy: 0.7484 - val_loss: 0.5734 - val_accuracy: 0.6987\n",
      "Epoch 16/550\n",
      "3355/3355 [==============================] - 4s 1ms/step - loss: 0.4950 - accuracy: 0.7501 - val_loss: 0.5866 - val_accuracy: 0.6975\n",
      "Epoch 17/550\n",
      "3355/3355 [==============================] - 4s 1ms/step - loss: 0.4930 - accuracy: 0.7523 - val_loss: 0.5765 - val_accuracy: 0.7023\n"
     ]
    }
   ],
   "source": [
    "history = dnn_model.fit(X_train, y_train, epochs=550, batch_size=32, validation_data=(X_test, y_test), callbacks=[early_stopping])"
   ]
  },
  {
   "cell_type": "code",
   "execution_count": 36,
   "id": "6db93321-84b4-4ca9-a8ef-38338910e409",
   "metadata": {
    "tags": []
   },
   "outputs": [
    {
     "name": "stdout",
     "output_type": "stream",
     "text": [
      "3355/3355 [==============================] - 1s 417us/step\n",
      "839/839 [==============================] - 0s 420us/step\n",
      "Train accuracy = 0.7382\n",
      "Test accuracy = 0.7058\n",
      "              precision    recall  f1-score   support\n",
      "\n",
      "           0       0.70      0.69      0.70     13023\n",
      "           1       0.71      0.72      0.72     13817\n",
      "\n",
      "    accuracy                           0.71     26840\n",
      "   macro avg       0.71      0.71      0.71     26840\n",
      "weighted avg       0.71      0.71      0.71     26840\n",
      "\n"
     ]
    },
    {
     "data": {
      "text/plain": [
       "(0.7382, 0.7058)"
      ]
     },
     "execution_count": 36,
     "metadata": {},
     "output_type": "execute_result"
    }
   ],
   "source": [
    "get_scores(dnn_model)"
   ]
  },
  {
   "cell_type": "markdown",
   "id": "0a123923-d65e-4f74-a08c-f841e0d29aa3",
   "metadata": {},
   "source": [
    "# Results"
   ]
  },
  {
   "cell_type": "code",
   "execution_count": 37,
   "id": "703ce420-5d5d-494a-a3aa-6533652aa1a8",
   "metadata": {
    "tags": []
   },
   "outputs": [
    {
     "data": {
      "text/html": [
       "<div>\n",
       "<style scoped>\n",
       "    .dataframe tbody tr th:only-of-type {\n",
       "        vertical-align: middle;\n",
       "    }\n",
       "\n",
       "    .dataframe tbody tr th {\n",
       "        vertical-align: top;\n",
       "    }\n",
       "\n",
       "    .dataframe thead th {\n",
       "        text-align: right;\n",
       "    }\n",
       "</style>\n",
       "<table border=\"1\" class=\"dataframe\">\n",
       "  <thead>\n",
       "    <tr style=\"text-align: right;\">\n",
       "      <th></th>\n",
       "      <th>Model</th>\n",
       "      <th>Train accuracy</th>\n",
       "      <th>Test accuracy</th>\n",
       "    </tr>\n",
       "  </thead>\n",
       "  <tbody>\n",
       "    <tr>\n",
       "      <th>0</th>\n",
       "      <td>LogisticRegression</td>\n",
       "      <td>0.6552</td>\n",
       "      <td>0.6491</td>\n",
       "    </tr>\n",
       "    <tr>\n",
       "      <th>1</th>\n",
       "      <td>SVC</td>\n",
       "      <td>0.7980</td>\n",
       "      <td>0.7179</td>\n",
       "    </tr>\n",
       "    <tr>\n",
       "      <th>2</th>\n",
       "      <td>SVC</td>\n",
       "      <td>0.7700</td>\n",
       "      <td>0.6974</td>\n",
       "    </tr>\n",
       "    <tr>\n",
       "      <th>3</th>\n",
       "      <td>RandomForestClassifier</td>\n",
       "      <td>0.7480</td>\n",
       "      <td>0.6801</td>\n",
       "    </tr>\n",
       "    <tr>\n",
       "      <th>4</th>\n",
       "      <td>XGBClassifier</td>\n",
       "      <td>0.8360</td>\n",
       "      <td>0.7336</td>\n",
       "    </tr>\n",
       "    <tr>\n",
       "      <th>5</th>\n",
       "      <td>Sequential</td>\n",
       "      <td>0.7382</td>\n",
       "      <td>0.7058</td>\n",
       "    </tr>\n",
       "  </tbody>\n",
       "</table>\n",
       "</div>"
      ],
      "text/plain": [
       "                    Model  Train accuracy  Test accuracy\n",
       "0      LogisticRegression          0.6552         0.6491\n",
       "1                     SVC          0.7980         0.7179\n",
       "2                     SVC          0.7700         0.6974\n",
       "3  RandomForestClassifier          0.7480         0.6801\n",
       "4           XGBClassifier          0.8360         0.7336\n",
       "5              Sequential          0.7382         0.7058"
      ]
     },
     "execution_count": 37,
     "metadata": {},
     "output_type": "execute_result"
    }
   ],
   "source": [
    "tabula_df = pd.DataFrame(tabula)\n",
    "tabula_df"
   ]
  },
  {
   "cell_type": "code",
   "execution_count": null,
   "id": "b50b380d-2064-46bb-9d67-63759b261cf0",
   "metadata": {},
   "outputs": [],
   "source": []
  }
 ],
 "metadata": {
  "kernelspec": {
   "display_name": "Python 3 (ipykernel)",
   "language": "python",
   "name": "python3"
  },
  "language_info": {
   "codemirror_mode": {
    "name": "ipython",
    "version": 3
   },
   "file_extension": ".py",
   "mimetype": "text/x-python",
   "name": "python",
   "nbconvert_exporter": "python",
   "pygments_lexer": "ipython3",
   "version": "3.11.0"
  }
 },
 "nbformat": 4,
 "nbformat_minor": 5
}
